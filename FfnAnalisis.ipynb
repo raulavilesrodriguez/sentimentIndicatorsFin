{
 "cells": [
  {
   "cell_type": "code",
   "execution_count": 1,
   "id": "9ae73370-7377-4115-b64a-5cc359754d2f",
   "metadata": {},
   "outputs": [],
   "source": [
    "import ffn\n",
    "import datetime"
   ]
  },
  {
   "cell_type": "code",
   "execution_count": 2,
   "id": "690f5ea5-2edc-4130-89be-d591ec85586b",
   "metadata": {},
   "outputs": [],
   "source": [
    "tickers = ['AAPL','MSFT','NVDA','GOOGL','TSLA','MSTR','PLTR','IAU','SPLG','AMZN', 'META', 'SCHG']"
   ]
  },
  {
   "cell_type": "code",
   "execution_count": 3,
   "id": "47676ece-7675-466a-b297-16534ce3face",
   "metadata": {},
   "outputs": [
    {
     "name": "stderr",
     "output_type": "stream",
     "text": [
      "[*********************100%***********************]  1 of 1 completed\n",
      "[*********************100%***********************]  1 of 1 completed\n",
      "[*********************100%***********************]  1 of 1 completed\n",
      "[*********************100%***********************]  1 of 1 completed\n",
      "[*********************100%***********************]  1 of 1 completed\n",
      "[*********************100%***********************]  1 of 1 completed\n",
      "[*********************100%***********************]  1 of 1 completed\n",
      "[*********************100%***********************]  1 of 1 completed\n",
      "[*********************100%***********************]  1 of 1 completed\n",
      "[*********************100%***********************]  1 of 1 completed\n",
      "[*********************100%***********************]  1 of 1 completed\n",
      "[*********************100%***********************]  1 of 1 completed\n"
     ]
    }
   ],
   "source": [
    "returns = ffn.get(tickers, start='2024-11-12').to_returns().dropna()"
   ]
  },
  {
   "cell_type": "code",
   "execution_count": 4,
   "id": "bdf5fdf9-3aae-4af7-a714-123d9cd2c5b4",
   "metadata": {},
   "outputs": [
    {
     "data": {
      "text/plain": [
       "aapl     42.26%\n",
       "msft     10.92%\n",
       "nvda      0.00%\n",
       "googl     0.00%\n",
       "tsla     15.74%\n",
       "mstr      1.17%\n",
       "pltr     11.94%\n",
       "iau       8.74%\n",
       "splg      0.00%\n",
       "amzn      5.73%\n",
       "meta      3.50%\n",
       "schg      0.00%\n",
       "dtype: object"
      ]
     },
     "execution_count": 4,
     "metadata": {},
     "output_type": "execute_result"
    }
   ],
   "source": [
    "returns.calc_mean_var_weights().as_format('.2%')"
   ]
  },
  {
   "cell_type": "markdown",
   "id": "d0885523-7698-4d4e-aadc-9992c7d61655",
   "metadata": {},
   "source": [
    "# Recent Stock Performance"
   ]
  },
  {
   "cell_type": "code",
   "execution_count": 17,
   "id": "5b381a48-4ffb-4bb3-be8c-f503bf3de137",
   "metadata": {},
   "outputs": [],
   "source": [
    "start_date = datetime.date.today() - datetime.timedelta(days=3)"
   ]
  },
  {
   "cell_type": "code",
   "execution_count": 18,
   "id": "5bdc2192-1772-445e-a3fb-8f29ee5a7b3a",
   "metadata": {},
   "outputs": [
    {
     "data": {
      "text/plain": [
       "datetime.date(2024, 12, 9)"
      ]
     },
     "execution_count": 18,
     "metadata": {},
     "output_type": "execute_result"
    }
   ],
   "source": [
    "start_date"
   ]
  },
  {
   "cell_type": "code",
   "execution_count": 19,
   "id": "f63ecc23-c571-4b20-a639-ee8684528a55",
   "metadata": {},
   "outputs": [
    {
     "name": "stderr",
     "output_type": "stream",
     "text": [
      "[*********************100%***********************]  1 of 1 completed\n",
      "[*********************100%***********************]  1 of 1 completed\n",
      "[*********************100%***********************]  1 of 1 completed\n",
      "[*********************100%***********************]  1 of 1 completed\n",
      "[*********************100%***********************]  1 of 1 completed\n",
      "[*********************100%***********************]  1 of 1 completed\n",
      "[*********************100%***********************]  1 of 1 completed\n",
      "[*********************100%***********************]  1 of 1 completed\n",
      "[*********************100%***********************]  1 of 1 completed\n",
      "[*********************100%***********************]  1 of 1 completed\n",
      "[*********************100%***********************]  1 of 1 completed\n",
      "[*********************100%***********************]  1 of 1 completed\n"
     ]
    }
   ],
   "source": [
    "prices = ffn.get(tickers, start=start_date)"
   ]
  },
  {
   "cell_type": "code",
   "execution_count": 20,
   "id": "59fa4923-2365-459b-adcf-72151bca899c",
   "metadata": {},
   "outputs": [],
   "source": [
    "final = prices.pct_change().dropna().iloc[-1:].T.reset_index()"
   ]
  },
  {
   "cell_type": "code",
   "execution_count": 21,
   "id": "69949c13-d53f-485c-a965-b6676d012c47",
   "metadata": {},
   "outputs": [],
   "source": [
    "final.columns = ['ticker', 'pct']"
   ]
  },
  {
   "cell_type": "code",
   "execution_count": 22,
   "id": "05905118-189d-4980-b831-450e0876e550",
   "metadata": {},
   "outputs": [
    {
     "data": {
      "text/html": [
       "<div>\n",
       "<style scoped>\n",
       "    .dataframe tbody tr th:only-of-type {\n",
       "        vertical-align: middle;\n",
       "    }\n",
       "\n",
       "    .dataframe tbody tr th {\n",
       "        vertical-align: top;\n",
       "    }\n",
       "\n",
       "    .dataframe thead th {\n",
       "        text-align: right;\n",
       "    }\n",
       "</style>\n",
       "<table border=\"1\" class=\"dataframe\">\n",
       "  <thead>\n",
       "    <tr style=\"text-align: right;\">\n",
       "      <th></th>\n",
       "      <th>ticker</th>\n",
       "      <th>pct</th>\n",
       "    </tr>\n",
       "  </thead>\n",
       "  <tbody>\n",
       "    <tr>\n",
       "      <th>0</th>\n",
       "      <td>aapl</td>\n",
       "      <td>-0.005166</td>\n",
       "    </tr>\n",
       "    <tr>\n",
       "      <th>1</th>\n",
       "      <td>msft</td>\n",
       "      <td>0.012767</td>\n",
       "    </tr>\n",
       "    <tr>\n",
       "      <th>2</th>\n",
       "      <td>nvda</td>\n",
       "      <td>0.031391</td>\n",
       "    </tr>\n",
       "    <tr>\n",
       "      <th>3</th>\n",
       "      <td>googl</td>\n",
       "      <td>0.055247</td>\n",
       "    </tr>\n",
       "    <tr>\n",
       "      <th>4</th>\n",
       "      <td>tsla</td>\n",
       "      <td>0.059303</td>\n",
       "    </tr>\n",
       "    <tr>\n",
       "      <th>5</th>\n",
       "      <td>mstr</td>\n",
       "      <td>0.090321</td>\n",
       "    </tr>\n",
       "    <tr>\n",
       "      <th>6</th>\n",
       "      <td>pltr</td>\n",
       "      <td>0.022852</td>\n",
       "    </tr>\n",
       "    <tr>\n",
       "      <th>7</th>\n",
       "      <td>iau</td>\n",
       "      <td>0.009246</td>\n",
       "    </tr>\n",
       "    <tr>\n",
       "      <th>8</th>\n",
       "      <td>splg</td>\n",
       "      <td>0.007898</td>\n",
       "    </tr>\n",
       "    <tr>\n",
       "      <th>9</th>\n",
       "      <td>amzn</td>\n",
       "      <td>0.023196</td>\n",
       "    </tr>\n",
       "    <tr>\n",
       "      <th>10</th>\n",
       "      <td>meta</td>\n",
       "      <td>0.021572</td>\n",
       "    </tr>\n",
       "    <tr>\n",
       "      <th>11</th>\n",
       "      <td>schg</td>\n",
       "      <td>0.016973</td>\n",
       "    </tr>\n",
       "  </tbody>\n",
       "</table>\n",
       "</div>"
      ],
      "text/plain": [
       "   ticker       pct\n",
       "0    aapl -0.005166\n",
       "1    msft  0.012767\n",
       "2    nvda  0.031391\n",
       "3   googl  0.055247\n",
       "4    tsla  0.059303\n",
       "5    mstr  0.090321\n",
       "6    pltr  0.022852\n",
       "7     iau  0.009246\n",
       "8    splg  0.007898\n",
       "9    amzn  0.023196\n",
       "10   meta  0.021572\n",
       "11   schg  0.016973"
      ]
     },
     "execution_count": 22,
     "metadata": {},
     "output_type": "execute_result"
    }
   ],
   "source": [
    "final"
   ]
  },
  {
   "cell_type": "code",
   "execution_count": 23,
   "id": "f6916ee9-f721-4b82-8ec5-86bb63ba2f0a",
   "metadata": {},
   "outputs": [],
   "source": [
    "best = final.nlargest(5, 'pct')"
   ]
  },
  {
   "cell_type": "code",
   "execution_count": 24,
   "id": "4aaa94dd-dfa7-494f-be51-ac863b9f50da",
   "metadata": {},
   "outputs": [
    {
     "data": {
      "text/html": [
       "<div>\n",
       "<style scoped>\n",
       "    .dataframe tbody tr th:only-of-type {\n",
       "        vertical-align: middle;\n",
       "    }\n",
       "\n",
       "    .dataframe tbody tr th {\n",
       "        vertical-align: top;\n",
       "    }\n",
       "\n",
       "    .dataframe thead th {\n",
       "        text-align: right;\n",
       "    }\n",
       "</style>\n",
       "<table border=\"1\" class=\"dataframe\">\n",
       "  <thead>\n",
       "    <tr style=\"text-align: right;\">\n",
       "      <th></th>\n",
       "      <th>ticker</th>\n",
       "      <th>pct</th>\n",
       "    </tr>\n",
       "  </thead>\n",
       "  <tbody>\n",
       "    <tr>\n",
       "      <th>5</th>\n",
       "      <td>mstr</td>\n",
       "      <td>0.090321</td>\n",
       "    </tr>\n",
       "    <tr>\n",
       "      <th>4</th>\n",
       "      <td>tsla</td>\n",
       "      <td>0.059303</td>\n",
       "    </tr>\n",
       "    <tr>\n",
       "      <th>3</th>\n",
       "      <td>googl</td>\n",
       "      <td>0.055247</td>\n",
       "    </tr>\n",
       "    <tr>\n",
       "      <th>2</th>\n",
       "      <td>nvda</td>\n",
       "      <td>0.031391</td>\n",
       "    </tr>\n",
       "    <tr>\n",
       "      <th>9</th>\n",
       "      <td>amzn</td>\n",
       "      <td>0.023196</td>\n",
       "    </tr>\n",
       "  </tbody>\n",
       "</table>\n",
       "</div>"
      ],
      "text/plain": [
       "  ticker       pct\n",
       "5   mstr  0.090321\n",
       "4   tsla  0.059303\n",
       "3  googl  0.055247\n",
       "2   nvda  0.031391\n",
       "9   amzn  0.023196"
      ]
     },
     "execution_count": 24,
     "metadata": {},
     "output_type": "execute_result"
    }
   ],
   "source": [
    "best"
   ]
  },
  {
   "cell_type": "code",
   "execution_count": 25,
   "id": "510ba2cb-102a-4c56-aabe-ceced392cb56",
   "metadata": {},
   "outputs": [],
   "source": [
    "worst = final.nsmallest(5, 'pct')"
   ]
  },
  {
   "cell_type": "code",
   "execution_count": 26,
   "id": "e53708ed-7975-4b16-93e2-bc26b0324a02",
   "metadata": {},
   "outputs": [
    {
     "data": {
      "text/html": [
       "<div>\n",
       "<style scoped>\n",
       "    .dataframe tbody tr th:only-of-type {\n",
       "        vertical-align: middle;\n",
       "    }\n",
       "\n",
       "    .dataframe tbody tr th {\n",
       "        vertical-align: top;\n",
       "    }\n",
       "\n",
       "    .dataframe thead th {\n",
       "        text-align: right;\n",
       "    }\n",
       "</style>\n",
       "<table border=\"1\" class=\"dataframe\">\n",
       "  <thead>\n",
       "    <tr style=\"text-align: right;\">\n",
       "      <th></th>\n",
       "      <th>ticker</th>\n",
       "      <th>pct</th>\n",
       "    </tr>\n",
       "  </thead>\n",
       "  <tbody>\n",
       "    <tr>\n",
       "      <th>0</th>\n",
       "      <td>aapl</td>\n",
       "      <td>-0.005166</td>\n",
       "    </tr>\n",
       "    <tr>\n",
       "      <th>8</th>\n",
       "      <td>splg</td>\n",
       "      <td>0.007898</td>\n",
       "    </tr>\n",
       "    <tr>\n",
       "      <th>7</th>\n",
       "      <td>iau</td>\n",
       "      <td>0.009246</td>\n",
       "    </tr>\n",
       "    <tr>\n",
       "      <th>1</th>\n",
       "      <td>msft</td>\n",
       "      <td>0.012767</td>\n",
       "    </tr>\n",
       "    <tr>\n",
       "      <th>11</th>\n",
       "      <td>schg</td>\n",
       "      <td>0.016973</td>\n",
       "    </tr>\n",
       "  </tbody>\n",
       "</table>\n",
       "</div>"
      ],
      "text/plain": [
       "   ticker       pct\n",
       "0    aapl -0.005166\n",
       "8    splg  0.007898\n",
       "7     iau  0.009246\n",
       "1    msft  0.012767\n",
       "11   schg  0.016973"
      ]
     },
     "execution_count": 26,
     "metadata": {},
     "output_type": "execute_result"
    }
   ],
   "source": [
    "worst"
   ]
  },
  {
   "cell_type": "markdown",
   "id": "f6d20391-94da-44d6-b869-25f4b298bc71",
   "metadata": {},
   "source": [
    "## Cumulative Returns Analysis"
   ]
  },
  {
   "cell_type": "markdown",
   "id": "afb92071-53af-4d69-9af9-a0baa590ceb7",
   "metadata": {},
   "source": [
    "This calculation is helpful for analyzing the overall performance of different assets within a portfolio and can also assist in comparing individual assets to an index like the S&P 500."
   ]
  },
  {
   "cell_type": "code",
   "execution_count": 27,
   "id": "9a3ba7aa-8ada-4ccc-8bd9-acebd137087b",
   "metadata": {},
   "outputs": [],
   "source": [
    "cumulative_returns = prices.calc_total_return()"
   ]
  },
  {
   "cell_type": "code",
   "execution_count": 28,
   "id": "0f77801d-c5d5-49a3-be88-c34701d49766",
   "metadata": {},
   "outputs": [
    {
     "name": "stdout",
     "output_type": "stream",
     "text": [
      "aapl    -0.001054\n",
      "msft     0.006659\n",
      "nvda     0.003602\n",
      "googl    0.114216\n",
      "tsla     0.089741\n",
      "mstr     0.126074\n",
      "pltr     0.000690\n",
      "iau      0.022523\n",
      "splg     0.004639\n",
      "amzn     0.018444\n",
      "meta     0.031146\n",
      "schg     0.014119\n",
      "dtype: float64\n"
     ]
    }
   ],
   "source": [
    "print(cumulative_returns)"
   ]
  },
  {
   "cell_type": "markdown",
   "id": "828e43cf-1461-4d84-86f4-5917a540a709",
   "metadata": {},
   "source": [
    "## Sharpe Ratio Calculation"
   ]
  },
  {
   "cell_type": "markdown",
   "id": "91dc2cb9-ed7e-4328-a365-c06cd0295562",
   "metadata": {},
   "source": [
    "The Sharpe Ratio is a popular metric that allows investors to assess the risk-adjusted return of an investment. A higher Sharpe Ratio indicates that the asset is providing a higher return for a given level of risk. The ffn library allows you to calculate the Sharpe Ratio easily"
   ]
  },
  {
   "cell_type": "code",
   "execution_count": 29,
   "id": "d77bd77b-6324-43c2-8698-d584b5be583d",
   "metadata": {},
   "outputs": [],
   "source": [
    "sharpe_ratios = prices.calc_stats()"
   ]
  },
  {
   "cell_type": "code",
   "execution_count": 30,
   "id": "28dd1d0c-88af-46ba-9a89-13e4decd3619",
   "metadata": {},
   "outputs": [
    {
     "name": "stdout",
     "output_type": "stream",
     "text": [
      "Stat                 aapl        msft        nvda        googl            tsla           mstr              pltr        iau         splg        amzn        meta        schg\n",
      "-------------------  ----------  ----------  ----------  ---------------  -------------  ----------------  ----------  ----------  ----------  ----------  ----------  ----------\n",
      "Start                2024-12-09  2024-12-09  2024-12-09  2024-12-09       2024-12-09     2024-12-09        2024-12-09  2024-12-09  2024-12-09  2024-12-09  2024-12-09  2024-12-09\n",
      "End                  2024-12-11  2024-12-11  2024-12-11  2024-12-11       2024-12-11     2024-12-11        2024-12-11  2024-12-11  2024-12-11  2024-12-11  2024-12-11  2024-12-11\n",
      "Risk-free rate       0.00%       0.00%       0.00%       0.00%            0.00%          0.00%             0.00%       0.00%       0.00%       0.00%       0.00%       0.00%\n",
      "\n",
      "Total Return         -0.11%      0.67%       0.36%       11.42%           8.97%          12.61%            0.07%       2.25%       0.46%       1.84%       3.11%       1.41%\n",
      "Daily Sharpe         -1.25       4.02        0.86        1963.31          32.33          24.02             0.30        64.33       4.70        7.48        28.47       8.04\n",
      "Daily Sortino        -2.24       12.54       1.85        inf              inf            inf               0.61        inf         16.19       44.84       inf         56.67\n",
      "CAGR                 -17.51%     236.04%     92.83%      37823382365.89%  654839985.26%  261477596350.89%  13.43%      5742.27%    132.87%     2715.27%    26974.54%   1194.23%\n",
      "Max Drawdown         -0.52%      -0.60%      -2.69%      0.00%            0.00%          0.00%             -2.17%      0.00%       -0.32%      -0.46%      0.00%       -0.28%\n",
      "Calmar Ratio         -33.90      391.36      34.45       inf              inf            inf               6.20        inf         410.93      5846.62     inf         4255.93\n",
      "\n",
      "MTD                  -0.11%      0.67%       0.36%       11.42%           8.97%          12.61%            0.07%       2.25%       0.46%       1.84%       3.11%       1.41%\n",
      "3m                   -           -           -           -                -              -                 -           -           -           -           -           -\n",
      "6m                   -           -           -           -                -              -                 -           -           -           -           -           -\n",
      "YTD                  -0.11%      0.67%       0.36%       11.42%           8.97%          12.61%            0.07%       2.25%       0.46%       1.84%       3.11%       1.41%\n",
      "1Y                   -           -           -           -                -              -                 -           -           -           -           -           -\n",
      "3Y (ann.)            -           -           -           -                -              -                 -           -           -           -           -           -\n",
      "5Y (ann.)            -           -           -           -                -              -                 -           -           -           -           -           -\n",
      "10Y (ann.)           -           -           -           -                -              -                 -           -           -           -           -           -\n",
      "Since Incep. (ann.)  -17.51%     236.04%     92.83%      37823382365.89%  654839985.26%  261477596350.89%  13.43%      5742.27%    132.87%     2715.27%    26974.54%   1194.23%\n",
      "\n",
      "Daily Sharpe         -1.25       4.02        0.86        1963.31          32.33          24.02             0.30        64.33       4.70        7.48        28.47       8.04\n",
      "Daily Sortino        -2.24       12.54       1.85        inf              inf            inf               0.61        inf         16.19       44.84       inf         56.67\n",
      "Daily Mean (ann.)    -13.01%     84.87%      56.04%      1400.22%         1109.26%       1551.22%          14.93%      282.26%     58.78%      233.75%     389.89%     178.50%\n",
      "Daily Vol (ann.)     10.44%      21.10%      65.48%      0.71%            34.31%         64.58%            49.97%      4.39%       12.50%      31.25%      13.70%      22.20%\n",
      "Daily Skew           -           -           -           -                -              -                 -           -           -           -           -           -\n",
      "Daily Kurt           -           -           -           -                -              -                 -           -           -           -           -           -\n",
      "Best Day             0.41%       1.28%       3.14%       5.59%            5.93%          9.03%             2.29%       1.32%       0.79%       2.32%       2.16%       1.70%\n",
      "Worst Day            -0.52%      -0.60%      -2.69%      5.52%            2.87%          3.28%             -2.17%      0.92%       -0.32%      -0.46%      0.94%       -0.28%\n",
      "\n",
      "Monthly Sharpe       -           -           -           -                -              -                 -           -           -           -           -           -\n",
      "Monthly Sortino      -           -           -           -                -              -                 -           -           -           -           -           -\n",
      "Monthly Mean (ann.)  -           -           -           -                -              -                 -           -           -           -           -           -\n",
      "Monthly Vol (ann.)   -           -           -           -                -              -                 -           -           -           -           -           -\n",
      "Monthly Skew         -           -           -           -                -              -                 -           -           -           -           -           -\n",
      "Monthly Kurt         -           -           -           -                -              -                 -           -           -           -           -           -\n",
      "Best Month           -           -           -           -                -              -                 -           -           -           -           -           -\n",
      "Worst Month          -           -           -           -                -              -                 -           -           -           -           -           -\n",
      "\n",
      "Yearly Sharpe        -           -           -           -                -              -                 -           -           -           -           -           -\n",
      "Yearly Sortino       -           -           -           -                -              -                 -           -           -           -           -           -\n",
      "Yearly Mean          -           -           -           -                -              -                 -           -           -           -           -           -\n",
      "Yearly Vol           -           -           -           -                -              -                 -           -           -           -           -           -\n",
      "Yearly Skew          -           -           -           -                -              -                 -           -           -           -           -           -\n",
      "Yearly Kurt          -           -           -           -                -              -                 -           -           -           -           -           -\n",
      "Best Year            -           -           -           -                -              -                 -           -           -           -           -           -\n",
      "Worst Year           -           -           -           -                -              -                 -           -           -           -           -           -\n",
      "\n",
      "Avg. Drawdown        -0.52%      -0.60%      -2.69%      -                -              -                 -2.17%      -           -0.32%      -0.46%      -           -0.28%\n",
      "Avg. Drawdown Days   0.00        1.00        1.00        -                -              -                 1.00        -           1.00        1.00        -           1.00\n",
      "Avg. Up Month        -           -           -           -                -              -                 -           -           -           -           -           -\n",
      "Avg. Down Month      -           -           -           -                -              -                 -           -           -           -           -           -\n",
      "Win Year %           -           -           -           -                -              -                 -           -           -           -           -           -\n",
      "Win 12m %            -           -           -           -                -              -                 -           -           -           -           -           -\n"
     ]
    }
   ],
   "source": [
    "sharpe_ratios.display()"
   ]
  },
  {
   "cell_type": "markdown",
   "id": "5914d548-f459-4b15-b746-f420f3233782",
   "metadata": {},
   "source": [
    "## Rolling Volatility"
   ]
  },
  {
   "cell_type": "code",
   "execution_count": 31,
   "id": "8e796000-bde4-47cf-b4ff-d044e2e3c42c",
   "metadata": {},
   "outputs": [],
   "source": [
    "rolling_vol = prices.rolling(3).std()"
   ]
  },
  {
   "cell_type": "code",
   "execution_count": 32,
   "id": "84a32793-7b4b-4453-a386-6bcd99df591e",
   "metadata": {},
   "outputs": [
    {
     "name": "stdout",
     "output_type": "stream",
     "text": [
      "               aapl      msft      nvda      googl      tsla       mstr  \\\n",
      "Date                                                                      \n",
      "2024-12-09      NaN       NaN       NaN        NaN       NaN        NaN   \n",
      "2024-12-10      NaN       NaN       NaN        NaN       NaN        NaN   \n",
      "2024-12-11  0.67656  2.831156  2.317148  10.015769  17.86303  23.897313   \n",
      "\n",
      "                pltr       iau      splg      amzn      meta      schg  \n",
      "Date                                                                    \n",
      "2024-12-09       NaN       NaN       NaN       NaN       NaN       NaN  \n",
      "2024-12-10       NaN       NaN       NaN       NaN       NaN       NaN  \n",
      "2024-12-11  0.921214  0.567657  0.281483  2.761033  9.804278  0.258322  \n"
     ]
    }
   ],
   "source": [
    "print(rolling_vol.tail())"
   ]
  },
  {
   "cell_type": "markdown",
   "id": "f25567fe-e9c7-4eb1-bf97-db90b7194046",
   "metadata": {},
   "source": [
    "## Portfolio Optimization"
   ]
  },
  {
   "cell_type": "markdown",
   "id": "9f5019ea-c2db-428f-b89c-11e45a4e3a49",
   "metadata": {},
   "source": [
    "This method of portfolio optimization leverages historical data to create an allocation that minimizes risk while targeting a desired return."
   ]
  },
  {
   "cell_type": "code",
   "execution_count": 33,
   "id": "9f47cadc-0e85-42b0-a72c-6a9063e4c1b8",
   "metadata": {},
   "outputs": [],
   "source": [
    "portfolio = prices.calc_stats().prices"
   ]
  },
  {
   "cell_type": "code",
   "execution_count": 34,
   "id": "f2de3de0-ab74-4560-837f-3c6f4019fecb",
   "metadata": {},
   "outputs": [
    {
     "data": {
      "text/html": [
       "<div>\n",
       "<style scoped>\n",
       "    .dataframe tbody tr th:only-of-type {\n",
       "        vertical-align: middle;\n",
       "    }\n",
       "\n",
       "    .dataframe tbody tr th {\n",
       "        vertical-align: top;\n",
       "    }\n",
       "\n",
       "    .dataframe thead th {\n",
       "        text-align: right;\n",
       "    }\n",
       "</style>\n",
       "<table border=\"1\" class=\"dataframe\">\n",
       "  <thead>\n",
       "    <tr style=\"text-align: right;\">\n",
       "      <th></th>\n",
       "      <th>aapl</th>\n",
       "      <th>msft</th>\n",
       "      <th>nvda</th>\n",
       "      <th>googl</th>\n",
       "      <th>tsla</th>\n",
       "      <th>mstr</th>\n",
       "      <th>pltr</th>\n",
       "      <th>iau</th>\n",
       "      <th>splg</th>\n",
       "      <th>amzn</th>\n",
       "      <th>meta</th>\n",
       "      <th>schg</th>\n",
       "    </tr>\n",
       "    <tr>\n",
       "      <th>Date</th>\n",
       "      <th></th>\n",
       "      <th></th>\n",
       "      <th></th>\n",
       "      <th></th>\n",
       "      <th></th>\n",
       "      <th></th>\n",
       "      <th></th>\n",
       "      <th></th>\n",
       "      <th></th>\n",
       "      <th></th>\n",
       "      <th></th>\n",
       "      <th></th>\n",
       "    </tr>\n",
       "  </thead>\n",
       "  <tbody>\n",
       "    <tr>\n",
       "      <th>2024-12-09</th>\n",
       "      <td>246.750000</td>\n",
       "      <td>446.019989</td>\n",
       "      <td>138.809998</td>\n",
       "      <td>175.369995</td>\n",
       "      <td>389.790009</td>\n",
       "      <td>365.339996</td>\n",
       "      <td>72.459999</td>\n",
       "      <td>50.169998</td>\n",
       "      <td>71.129997</td>\n",
       "      <td>226.089996</td>\n",
       "      <td>613.570007</td>\n",
       "      <td>28.477911</td>\n",
       "    </tr>\n",
       "    <tr>\n",
       "      <th>2024-12-10</th>\n",
       "      <td>247.770004</td>\n",
       "      <td>443.329987</td>\n",
       "      <td>135.070007</td>\n",
       "      <td>185.169998</td>\n",
       "      <td>400.989990</td>\n",
       "      <td>377.320007</td>\n",
       "      <td>70.889999</td>\n",
       "      <td>50.830002</td>\n",
       "      <td>70.900002</td>\n",
       "      <td>225.039993</td>\n",
       "      <td>619.320007</td>\n",
       "      <td>28.398001</td>\n",
       "    </tr>\n",
       "    <tr>\n",
       "      <th>2024-12-11</th>\n",
       "      <td>246.490005</td>\n",
       "      <td>448.989990</td>\n",
       "      <td>139.309998</td>\n",
       "      <td>195.399994</td>\n",
       "      <td>424.769989</td>\n",
       "      <td>411.399994</td>\n",
       "      <td>72.510002</td>\n",
       "      <td>51.299999</td>\n",
       "      <td>71.459999</td>\n",
       "      <td>230.259995</td>\n",
       "      <td>632.679993</td>\n",
       "      <td>28.879999</td>\n",
       "    </tr>\n",
       "  </tbody>\n",
       "</table>\n",
       "</div>"
      ],
      "text/plain": [
       "                  aapl        msft        nvda       googl        tsla  \\\n",
       "Date                                                                     \n",
       "2024-12-09  246.750000  446.019989  138.809998  175.369995  389.790009   \n",
       "2024-12-10  247.770004  443.329987  135.070007  185.169998  400.989990   \n",
       "2024-12-11  246.490005  448.989990  139.309998  195.399994  424.769989   \n",
       "\n",
       "                  mstr       pltr        iau       splg        amzn  \\\n",
       "Date                                                                  \n",
       "2024-12-09  365.339996  72.459999  50.169998  71.129997  226.089996   \n",
       "2024-12-10  377.320007  70.889999  50.830002  70.900002  225.039993   \n",
       "2024-12-11  411.399994  72.510002  51.299999  71.459999  230.259995   \n",
       "\n",
       "                  meta       schg  \n",
       "Date                               \n",
       "2024-12-09  613.570007  28.477911  \n",
       "2024-12-10  619.320007  28.398001  \n",
       "2024-12-11  632.679993  28.879999  "
      ]
     },
     "execution_count": 34,
     "metadata": {},
     "output_type": "execute_result"
    }
   ],
   "source": [
    "portfolio"
   ]
  },
  {
   "cell_type": "code",
   "execution_count": 35,
   "id": "fe8d4206-1305-4491-a4a9-d79b3f82dac6",
   "metadata": {},
   "outputs": [],
   "source": [
    "weights = portfolio.calc_mean_var_weights().as_format('.2%')"
   ]
  },
  {
   "cell_type": "code",
   "execution_count": 36,
   "id": "6c611140-c856-4c63-8a46-9b311f8778c4",
   "metadata": {},
   "outputs": [
    {
     "name": "stdout",
     "output_type": "stream",
     "text": [
      "aapl     33.70%\n",
      "msft     33.54%\n",
      "nvda      4.30%\n",
      "googl     0.00%\n",
      "tsla      0.00%\n",
      "mstr      0.00%\n",
      "pltr      4.21%\n",
      "iau       2.97%\n",
      "splg      6.52%\n",
      "amzn      6.31%\n",
      "meta      6.98%\n",
      "schg      1.47%\n",
      "dtype: object\n"
     ]
    }
   ],
   "source": [
    "print(weights)"
   ]
  },
  {
   "cell_type": "markdown",
   "id": "470c18d4-6f56-4e38-9df3-70426070bb4d",
   "metadata": {},
   "source": [
    "## Max Drawdown Analysis"
   ]
  },
  {
   "cell_type": "markdown",
   "id": "c39b8486-b3cc-485f-be0c-71ed4e657af3",
   "metadata": {},
   "source": [
    "The maximum drawdown is an important metric to evaluate the worst peak-to-trough decline during a specific period. It provides insight into how much value an investor could lose most during a downturn:"
   ]
  },
  {
   "cell_type": "code",
   "execution_count": 37,
   "id": "de1fdc89-3890-4f2b-ba2c-f8f69bf7d4e5",
   "metadata": {},
   "outputs": [],
   "source": [
    "max_drawdown = prices.calc_max_drawdown().as_format('.2%')"
   ]
  },
  {
   "cell_type": "code",
   "execution_count": 38,
   "id": "9c0286bd-3e4c-4f1c-8314-7a2db044e654",
   "metadata": {},
   "outputs": [
    {
     "name": "stdout",
     "output_type": "stream",
     "text": [
      "aapl     -0.52%\n",
      "msft     -0.60%\n",
      "nvda     -2.69%\n",
      "googl     0.00%\n",
      "tsla      0.00%\n",
      "mstr      0.00%\n",
      "pltr     -2.17%\n",
      "iau       0.00%\n",
      "splg     -0.32%\n",
      "amzn     -0.46%\n",
      "meta      0.00%\n",
      "schg     -0.28%\n",
      "dtype: object\n"
     ]
    }
   ],
   "source": [
    "print(max_drawdown)"
   ]
  },
  {
   "cell_type": "markdown",
   "id": "9e51ff5e-e732-41d7-aee0-8ac47f595c64",
   "metadata": {},
   "source": [
    "Consultas: https://chatgpt.com/c/675989fe-f91c-800b-a51c-36da7260404f"
   ]
  },
  {
   "cell_type": "code",
   "execution_count": null,
   "id": "c9c96248-bcdc-4572-9c2e-7421d30798cd",
   "metadata": {},
   "outputs": [],
   "source": []
  }
 ],
 "metadata": {
  "kernelspec": {
   "display_name": "Python 3 (ipykernel)",
   "language": "python",
   "name": "python3"
  },
  "language_info": {
   "codemirror_mode": {
    "name": "ipython",
    "version": 3
   },
   "file_extension": ".py",
   "mimetype": "text/x-python",
   "name": "python",
   "nbconvert_exporter": "python",
   "pygments_lexer": "ipython3",
   "version": "3.12.7"
  }
 },
 "nbformat": 4,
 "nbformat_minor": 5
}
