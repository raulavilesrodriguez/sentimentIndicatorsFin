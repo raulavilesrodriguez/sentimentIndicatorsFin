{
 "cells": [
  {
   "cell_type": "code",
   "execution_count": 1,
   "id": "9ae73370-7377-4115-b64a-5cc359754d2f",
   "metadata": {},
   "outputs": [],
   "source": [
    "import ffn\n",
    "import datetime"
   ]
  },
  {
   "cell_type": "code",
   "execution_count": 2,
   "id": "690f5ea5-2edc-4130-89be-d591ec85586b",
   "metadata": {},
   "outputs": [],
   "source": [
    "tickers = ['SPLG','SCHB','VTI','SCHG', 'KIE', 'IAU', 'IWF', 'DXJ', 'NANC', 'VUG', 'SCHX', 'VOO','SMH']"
   ]
  },
  {
   "cell_type": "code",
   "execution_count": 3,
   "id": "47676ece-7675-466a-b297-16534ce3face",
   "metadata": {},
   "outputs": [
    {
     "name": "stderr",
     "output_type": "stream",
     "text": [
      "[*********************100%***********************]  1 of 1 completed\n",
      "[*********************100%***********************]  1 of 1 completed\n",
      "[*********************100%***********************]  1 of 1 completed\n",
      "[*********************100%***********************]  1 of 1 completed\n",
      "[*********************100%***********************]  1 of 1 completed\n",
      "[*********************100%***********************]  1 of 1 completed\n",
      "[*********************100%***********************]  1 of 1 completed\n",
      "[*********************100%***********************]  1 of 1 completed\n",
      "[*********************100%***********************]  1 of 1 completed\n",
      "[*********************100%***********************]  1 of 1 completed\n",
      "[*********************100%***********************]  1 of 1 completed\n",
      "[*********************100%***********************]  1 of 1 completed\n"
     ]
    }
   ],
   "source": [
    "returns = ffn.get(tickers, start='2024-11-10').to_returns().dropna()"
   ]
  },
  {
   "cell_type": "code",
   "execution_count": 4,
   "id": "bdf5fdf9-3aae-4af7-a714-123d9cd2c5b4",
   "metadata": {},
   "outputs": [
    {
     "data": {
      "text/plain": [
       "splg     0.00%\n",
       "schb     0.00%\n",
       "vti      0.00%\n",
       "schg     0.00%\n",
       "kie      0.00%\n",
       "iau     30.13%\n",
       "iwf     25.08%\n",
       "dxj      0.00%\n",
       "nanc     0.00%\n",
       "vug     44.79%\n",
       "schx     0.00%\n",
       "voo      0.00%\n",
       "dtype: object"
      ]
     },
     "execution_count": 4,
     "metadata": {},
     "output_type": "execute_result"
    }
   ],
   "source": [
    "returns.calc_mean_var_weights().as_format('.2%')"
   ]
  },
  {
   "cell_type": "markdown",
   "id": "d0885523-7698-4d4e-aadc-9992c7d61655",
   "metadata": {},
   "source": [
    "# Recent Stock Performance"
   ]
  },
  {
   "cell_type": "code",
   "execution_count": 5,
   "id": "5b381a48-4ffb-4bb3-be8c-f503bf3de137",
   "metadata": {},
   "outputs": [],
   "source": [
    "start_date = datetime.date.today() - datetime.timedelta(days=30)"
   ]
  },
  {
   "cell_type": "code",
   "execution_count": 6,
   "id": "5bdc2192-1772-445e-a3fb-8f29ee5a7b3a",
   "metadata": {},
   "outputs": [
    {
     "data": {
      "text/plain": [
       "datetime.date(2024, 11, 11)"
      ]
     },
     "execution_count": 6,
     "metadata": {},
     "output_type": "execute_result"
    }
   ],
   "source": [
    "start_date"
   ]
  },
  {
   "cell_type": "code",
   "execution_count": 7,
   "id": "f63ecc23-c571-4b20-a639-ee8684528a55",
   "metadata": {},
   "outputs": [
    {
     "name": "stderr",
     "output_type": "stream",
     "text": [
      "[*********************100%***********************]  1 of 1 completed\n",
      "[*********************100%***********************]  1 of 1 completed\n",
      "[*********************100%***********************]  1 of 1 completed\n",
      "[*********************100%***********************]  1 of 1 completed\n",
      "[*********************100%***********************]  1 of 1 completed\n",
      "[*********************100%***********************]  1 of 1 completed\n",
      "[*********************100%***********************]  1 of 1 completed\n",
      "[*********************100%***********************]  1 of 1 completed\n",
      "[*********************100%***********************]  1 of 1 completed\n",
      "[*********************100%***********************]  1 of 1 completed\n",
      "[*********************100%***********************]  1 of 1 completed\n",
      "[*********************100%***********************]  1 of 1 completed\n"
     ]
    }
   ],
   "source": [
    "prices = ffn.get(tickers, start=start_date)"
   ]
  },
  {
   "cell_type": "code",
   "execution_count": 8,
   "id": "8bdc2bfc-2258-4502-bebb-deb1dcc0b854",
   "metadata": {},
   "outputs": [
    {
     "data": {
      "text/html": [
       "<div>\n",
       "<style scoped>\n",
       "    .dataframe tbody tr th:only-of-type {\n",
       "        vertical-align: middle;\n",
       "    }\n",
       "\n",
       "    .dataframe tbody tr th {\n",
       "        vertical-align: top;\n",
       "    }\n",
       "\n",
       "    .dataframe thead th {\n",
       "        text-align: right;\n",
       "    }\n",
       "</style>\n",
       "<table border=\"1\" class=\"dataframe\">\n",
       "  <thead>\n",
       "    <tr style=\"text-align: right;\">\n",
       "      <th></th>\n",
       "      <th>splg</th>\n",
       "      <th>schb</th>\n",
       "      <th>vti</th>\n",
       "      <th>schg</th>\n",
       "      <th>kie</th>\n",
       "      <th>iau</th>\n",
       "      <th>iwf</th>\n",
       "      <th>dxj</th>\n",
       "      <th>nanc</th>\n",
       "      <th>vug</th>\n",
       "      <th>schx</th>\n",
       "      <th>voo</th>\n",
       "    </tr>\n",
       "    <tr>\n",
       "      <th>Date</th>\n",
       "      <th></th>\n",
       "      <th></th>\n",
       "      <th></th>\n",
       "      <th></th>\n",
       "      <th></th>\n",
       "      <th></th>\n",
       "      <th></th>\n",
       "      <th></th>\n",
       "      <th></th>\n",
       "      <th></th>\n",
       "      <th></th>\n",
       "      <th></th>\n",
       "    </tr>\n",
       "  </thead>\n",
       "  <tbody>\n",
       "    <tr>\n",
       "      <th>2024-11-11</th>\n",
       "      <td>70.419998</td>\n",
       "      <td>23.309999</td>\n",
       "      <td>297.540009</td>\n",
       "      <td>27.820000</td>\n",
       "      <td>59.270000</td>\n",
       "      <td>49.509998</td>\n",
       "      <td>398.480011</td>\n",
       "      <td>111.019997</td>\n",
       "      <td>39.759998</td>\n",
       "      <td>408.510010</td>\n",
       "      <td>23.719999</td>\n",
       "      <td>550.400024</td>\n",
       "    </tr>\n",
       "    <tr>\n",
       "      <th>2024-11-12</th>\n",
       "      <td>70.220001</td>\n",
       "      <td>23.209999</td>\n",
       "      <td>296.369995</td>\n",
       "      <td>27.790001</td>\n",
       "      <td>59.349998</td>\n",
       "      <td>49.080002</td>\n",
       "      <td>398.790009</td>\n",
       "      <td>109.809998</td>\n",
       "      <td>39.700001</td>\n",
       "      <td>408.799988</td>\n",
       "      <td>23.650000</td>\n",
       "      <td>548.750000</td>\n",
       "    </tr>\n",
       "    <tr>\n",
       "      <th>2024-11-13</th>\n",
       "      <td>70.250000</td>\n",
       "      <td>23.200001</td>\n",
       "      <td>296.230011</td>\n",
       "      <td>27.770000</td>\n",
       "      <td>59.230000</td>\n",
       "      <td>48.590000</td>\n",
       "      <td>398.369995</td>\n",
       "      <td>109.760002</td>\n",
       "      <td>39.669998</td>\n",
       "      <td>408.619995</td>\n",
       "      <td>23.660000</td>\n",
       "      <td>549.030029</td>\n",
       "    </tr>\n",
       "    <tr>\n",
       "      <th>2024-11-14</th>\n",
       "      <td>69.790001</td>\n",
       "      <td>23.040001</td>\n",
       "      <td>294.040009</td>\n",
       "      <td>27.540001</td>\n",
       "      <td>59.169998</td>\n",
       "      <td>48.459999</td>\n",
       "      <td>395.799988</td>\n",
       "      <td>110.650002</td>\n",
       "      <td>39.509998</td>\n",
       "      <td>406.130005</td>\n",
       "      <td>23.500000</td>\n",
       "      <td>545.539978</td>\n",
       "    </tr>\n",
       "    <tr>\n",
       "      <th>2024-11-15</th>\n",
       "      <td>68.889999</td>\n",
       "      <td>22.740000</td>\n",
       "      <td>290.309998</td>\n",
       "      <td>26.980000</td>\n",
       "      <td>59.400002</td>\n",
       "      <td>48.369999</td>\n",
       "      <td>387.549988</td>\n",
       "      <td>108.800003</td>\n",
       "      <td>38.750000</td>\n",
       "      <td>397.829987</td>\n",
       "      <td>23.200001</td>\n",
       "      <td>538.500000</td>\n",
       "    </tr>\n",
       "    <tr>\n",
       "      <th>2024-11-18</th>\n",
       "      <td>69.180000</td>\n",
       "      <td>22.840000</td>\n",
       "      <td>291.489990</td>\n",
       "      <td>27.100000</td>\n",
       "      <td>59.630001</td>\n",
       "      <td>49.290001</td>\n",
       "      <td>389.059998</td>\n",
       "      <td>109.709999</td>\n",
       "      <td>38.830002</td>\n",
       "      <td>399.640015</td>\n",
       "      <td>23.299999</td>\n",
       "      <td>540.729980</td>\n",
       "    </tr>\n",
       "    <tr>\n",
       "      <th>2024-11-19</th>\n",
       "      <td>69.440002</td>\n",
       "      <td>22.940001</td>\n",
       "      <td>292.829987</td>\n",
       "      <td>27.370001</td>\n",
       "      <td>59.290001</td>\n",
       "      <td>49.740002</td>\n",
       "      <td>393.399994</td>\n",
       "      <td>109.470001</td>\n",
       "      <td>39.169998</td>\n",
       "      <td>403.790009</td>\n",
       "      <td>23.400000</td>\n",
       "      <td>542.700012</td>\n",
       "    </tr>\n",
       "    <tr>\n",
       "      <th>2024-11-20</th>\n",
       "      <td>69.470001</td>\n",
       "      <td>22.959999</td>\n",
       "      <td>293.000000</td>\n",
       "      <td>27.400000</td>\n",
       "      <td>59.490002</td>\n",
       "      <td>50.029999</td>\n",
       "      <td>392.760010</td>\n",
       "      <td>109.300003</td>\n",
       "      <td>39.200001</td>\n",
       "      <td>403.470001</td>\n",
       "      <td>23.400000</td>\n",
       "      <td>542.900024</td>\n",
       "    </tr>\n",
       "    <tr>\n",
       "      <th>2024-11-21</th>\n",
       "      <td>69.830002</td>\n",
       "      <td>23.120001</td>\n",
       "      <td>295.049988</td>\n",
       "      <td>27.450001</td>\n",
       "      <td>60.360001</td>\n",
       "      <td>50.439999</td>\n",
       "      <td>393.720001</td>\n",
       "      <td>109.139999</td>\n",
       "      <td>39.540001</td>\n",
       "      <td>403.950012</td>\n",
       "      <td>23.540001</td>\n",
       "      <td>545.640015</td>\n",
       "    </tr>\n",
       "    <tr>\n",
       "      <th>2024-11-22</th>\n",
       "      <td>70.050003</td>\n",
       "      <td>23.230000</td>\n",
       "      <td>296.510010</td>\n",
       "      <td>27.490000</td>\n",
       "      <td>61.009998</td>\n",
       "      <td>51.080002</td>\n",
       "      <td>394.119995</td>\n",
       "      <td>110.449997</td>\n",
       "      <td>39.610001</td>\n",
       "      <td>404.029999</td>\n",
       "      <td>23.650000</td>\n",
       "      <td>547.469971</td>\n",
       "    </tr>\n",
       "    <tr>\n",
       "      <th>2024-11-25</th>\n",
       "      <td>70.290001</td>\n",
       "      <td>23.320000</td>\n",
       "      <td>297.959991</td>\n",
       "      <td>27.520000</td>\n",
       "      <td>61.549999</td>\n",
       "      <td>49.590000</td>\n",
       "      <td>394.309998</td>\n",
       "      <td>110.320000</td>\n",
       "      <td>39.689999</td>\n",
       "      <td>404.700012</td>\n",
       "      <td>23.740000</td>\n",
       "      <td>549.229980</td>\n",
       "    </tr>\n",
       "    <tr>\n",
       "      <th>2024-11-26</th>\n",
       "      <td>70.669998</td>\n",
       "      <td>23.420000</td>\n",
       "      <td>299.049988</td>\n",
       "      <td>27.740000</td>\n",
       "      <td>61.860001</td>\n",
       "      <td>49.689999</td>\n",
       "      <td>397.970001</td>\n",
       "      <td>109.180000</td>\n",
       "      <td>39.924999</td>\n",
       "      <td>408.079987</td>\n",
       "      <td>23.850000</td>\n",
       "      <td>552.309998</td>\n",
       "    </tr>\n",
       "    <tr>\n",
       "      <th>2024-11-27</th>\n",
       "      <td>70.440002</td>\n",
       "      <td>23.360001</td>\n",
       "      <td>298.200012</td>\n",
       "      <td>27.559999</td>\n",
       "      <td>62.029999</td>\n",
       "      <td>49.779999</td>\n",
       "      <td>395.339996</td>\n",
       "      <td>107.010002</td>\n",
       "      <td>39.639999</td>\n",
       "      <td>405.720001</td>\n",
       "      <td>23.780001</td>\n",
       "      <td>550.549988</td>\n",
       "    </tr>\n",
       "    <tr>\n",
       "      <th>2024-11-29</th>\n",
       "      <td>70.889999</td>\n",
       "      <td>23.490000</td>\n",
       "      <td>299.859985</td>\n",
       "      <td>27.790001</td>\n",
       "      <td>61.970001</td>\n",
       "      <td>50.250000</td>\n",
       "      <td>398.380005</td>\n",
       "      <td>108.769997</td>\n",
       "      <td>39.950001</td>\n",
       "      <td>409.130005</td>\n",
       "      <td>23.889999</td>\n",
       "      <td>553.450012</td>\n",
       "    </tr>\n",
       "    <tr>\n",
       "      <th>2024-12-02</th>\n",
       "      <td>71.010002</td>\n",
       "      <td>23.530001</td>\n",
       "      <td>300.429993</td>\n",
       "      <td>28.030001</td>\n",
       "      <td>61.500000</td>\n",
       "      <td>49.790001</td>\n",
       "      <td>401.839996</td>\n",
       "      <td>110.050003</td>\n",
       "      <td>40.070000</td>\n",
       "      <td>412.869995</td>\n",
       "      <td>23.959999</td>\n",
       "      <td>555.010010</td>\n",
       "    </tr>\n",
       "    <tr>\n",
       "      <th>2024-12-03</th>\n",
       "      <td>71.040001</td>\n",
       "      <td>23.520000</td>\n",
       "      <td>300.429993</td>\n",
       "      <td>28.160000</td>\n",
       "      <td>61.169998</td>\n",
       "      <td>49.889999</td>\n",
       "      <td>404.200012</td>\n",
       "      <td>111.489998</td>\n",
       "      <td>40.150002</td>\n",
       "      <td>414.880005</td>\n",
       "      <td>23.969999</td>\n",
       "      <td>555.140015</td>\n",
       "    </tr>\n",
       "    <tr>\n",
       "      <th>2024-12-04</th>\n",
       "      <td>71.489998</td>\n",
       "      <td>23.700001</td>\n",
       "      <td>302.450012</td>\n",
       "      <td>28.600000</td>\n",
       "      <td>60.959999</td>\n",
       "      <td>50.040001</td>\n",
       "      <td>409.940002</td>\n",
       "      <td>111.239998</td>\n",
       "      <td>40.730000</td>\n",
       "      <td>421.059998</td>\n",
       "      <td>24.150000</td>\n",
       "      <td>558.640015</td>\n",
       "    </tr>\n",
       "    <tr>\n",
       "      <th>2024-12-05</th>\n",
       "      <td>71.370003</td>\n",
       "      <td>23.629999</td>\n",
       "      <td>301.609985</td>\n",
       "      <td>28.500000</td>\n",
       "      <td>60.830002</td>\n",
       "      <td>49.669998</td>\n",
       "      <td>409.690002</td>\n",
       "      <td>111.139999</td>\n",
       "      <td>40.630001</td>\n",
       "      <td>420.410004</td>\n",
       "      <td>24.080000</td>\n",
       "      <td>557.710022</td>\n",
       "    </tr>\n",
       "    <tr>\n",
       "      <th>2024-12-06</th>\n",
       "      <td>71.519997</td>\n",
       "      <td>23.690001</td>\n",
       "      <td>302.450012</td>\n",
       "      <td>28.709999</td>\n",
       "      <td>60.349998</td>\n",
       "      <td>49.680000</td>\n",
       "      <td>412.779999</td>\n",
       "      <td>110.930000</td>\n",
       "      <td>40.630001</td>\n",
       "      <td>423.260010</td>\n",
       "      <td>24.150000</td>\n",
       "      <td>558.820007</td>\n",
       "    </tr>\n",
       "    <tr>\n",
       "      <th>2024-12-09</th>\n",
       "      <td>71.129997</td>\n",
       "      <td>23.549999</td>\n",
       "      <td>300.519989</td>\n",
       "      <td>28.510000</td>\n",
       "      <td>59.270000</td>\n",
       "      <td>50.169998</td>\n",
       "      <td>410.089996</td>\n",
       "      <td>111.019997</td>\n",
       "      <td>40.240002</td>\n",
       "      <td>420.399994</td>\n",
       "      <td>24.000000</td>\n",
       "      <td>555.909973</td>\n",
       "    </tr>\n",
       "    <tr>\n",
       "      <th>2024-12-10</th>\n",
       "      <td>70.900002</td>\n",
       "      <td>23.450001</td>\n",
       "      <td>299.390015</td>\n",
       "      <td>28.430000</td>\n",
       "      <td>58.099998</td>\n",
       "      <td>50.830002</td>\n",
       "      <td>408.980011</td>\n",
       "      <td>111.099998</td>\n",
       "      <td>40.080002</td>\n",
       "      <td>419.940002</td>\n",
       "      <td>23.910000</td>\n",
       "      <td>554.330017</td>\n",
       "    </tr>\n",
       "    <tr>\n",
       "      <th>2024-12-11</th>\n",
       "      <td>71.459999</td>\n",
       "      <td>23.549999</td>\n",
       "      <td>301.799988</td>\n",
       "      <td>28.879999</td>\n",
       "      <td>58.340000</td>\n",
       "      <td>51.299999</td>\n",
       "      <td>415.839996</td>\n",
       "      <td>112.839996</td>\n",
       "      <td>40.540001</td>\n",
       "      <td>426.910004</td>\n",
       "      <td>24.030001</td>\n",
       "      <td>558.530029</td>\n",
       "    </tr>\n",
       "  </tbody>\n",
       "</table>\n",
       "</div>"
      ],
      "text/plain": [
       "                 splg       schb         vti       schg        kie        iau  \\\n",
       "Date                                                                            \n",
       "2024-11-11  70.419998  23.309999  297.540009  27.820000  59.270000  49.509998   \n",
       "2024-11-12  70.220001  23.209999  296.369995  27.790001  59.349998  49.080002   \n",
       "2024-11-13  70.250000  23.200001  296.230011  27.770000  59.230000  48.590000   \n",
       "2024-11-14  69.790001  23.040001  294.040009  27.540001  59.169998  48.459999   \n",
       "2024-11-15  68.889999  22.740000  290.309998  26.980000  59.400002  48.369999   \n",
       "2024-11-18  69.180000  22.840000  291.489990  27.100000  59.630001  49.290001   \n",
       "2024-11-19  69.440002  22.940001  292.829987  27.370001  59.290001  49.740002   \n",
       "2024-11-20  69.470001  22.959999  293.000000  27.400000  59.490002  50.029999   \n",
       "2024-11-21  69.830002  23.120001  295.049988  27.450001  60.360001  50.439999   \n",
       "2024-11-22  70.050003  23.230000  296.510010  27.490000  61.009998  51.080002   \n",
       "2024-11-25  70.290001  23.320000  297.959991  27.520000  61.549999  49.590000   \n",
       "2024-11-26  70.669998  23.420000  299.049988  27.740000  61.860001  49.689999   \n",
       "2024-11-27  70.440002  23.360001  298.200012  27.559999  62.029999  49.779999   \n",
       "2024-11-29  70.889999  23.490000  299.859985  27.790001  61.970001  50.250000   \n",
       "2024-12-02  71.010002  23.530001  300.429993  28.030001  61.500000  49.790001   \n",
       "2024-12-03  71.040001  23.520000  300.429993  28.160000  61.169998  49.889999   \n",
       "2024-12-04  71.489998  23.700001  302.450012  28.600000  60.959999  50.040001   \n",
       "2024-12-05  71.370003  23.629999  301.609985  28.500000  60.830002  49.669998   \n",
       "2024-12-06  71.519997  23.690001  302.450012  28.709999  60.349998  49.680000   \n",
       "2024-12-09  71.129997  23.549999  300.519989  28.510000  59.270000  50.169998   \n",
       "2024-12-10  70.900002  23.450001  299.390015  28.430000  58.099998  50.830002   \n",
       "2024-12-11  71.459999  23.549999  301.799988  28.879999  58.340000  51.299999   \n",
       "\n",
       "                   iwf         dxj       nanc         vug       schx  \\\n",
       "Date                                                                   \n",
       "2024-11-11  398.480011  111.019997  39.759998  408.510010  23.719999   \n",
       "2024-11-12  398.790009  109.809998  39.700001  408.799988  23.650000   \n",
       "2024-11-13  398.369995  109.760002  39.669998  408.619995  23.660000   \n",
       "2024-11-14  395.799988  110.650002  39.509998  406.130005  23.500000   \n",
       "2024-11-15  387.549988  108.800003  38.750000  397.829987  23.200001   \n",
       "2024-11-18  389.059998  109.709999  38.830002  399.640015  23.299999   \n",
       "2024-11-19  393.399994  109.470001  39.169998  403.790009  23.400000   \n",
       "2024-11-20  392.760010  109.300003  39.200001  403.470001  23.400000   \n",
       "2024-11-21  393.720001  109.139999  39.540001  403.950012  23.540001   \n",
       "2024-11-22  394.119995  110.449997  39.610001  404.029999  23.650000   \n",
       "2024-11-25  394.309998  110.320000  39.689999  404.700012  23.740000   \n",
       "2024-11-26  397.970001  109.180000  39.924999  408.079987  23.850000   \n",
       "2024-11-27  395.339996  107.010002  39.639999  405.720001  23.780001   \n",
       "2024-11-29  398.380005  108.769997  39.950001  409.130005  23.889999   \n",
       "2024-12-02  401.839996  110.050003  40.070000  412.869995  23.959999   \n",
       "2024-12-03  404.200012  111.489998  40.150002  414.880005  23.969999   \n",
       "2024-12-04  409.940002  111.239998  40.730000  421.059998  24.150000   \n",
       "2024-12-05  409.690002  111.139999  40.630001  420.410004  24.080000   \n",
       "2024-12-06  412.779999  110.930000  40.630001  423.260010  24.150000   \n",
       "2024-12-09  410.089996  111.019997  40.240002  420.399994  24.000000   \n",
       "2024-12-10  408.980011  111.099998  40.080002  419.940002  23.910000   \n",
       "2024-12-11  415.839996  112.839996  40.540001  426.910004  24.030001   \n",
       "\n",
       "                   voo  \n",
       "Date                    \n",
       "2024-11-11  550.400024  \n",
       "2024-11-12  548.750000  \n",
       "2024-11-13  549.030029  \n",
       "2024-11-14  545.539978  \n",
       "2024-11-15  538.500000  \n",
       "2024-11-18  540.729980  \n",
       "2024-11-19  542.700012  \n",
       "2024-11-20  542.900024  \n",
       "2024-11-21  545.640015  \n",
       "2024-11-22  547.469971  \n",
       "2024-11-25  549.229980  \n",
       "2024-11-26  552.309998  \n",
       "2024-11-27  550.549988  \n",
       "2024-11-29  553.450012  \n",
       "2024-12-02  555.010010  \n",
       "2024-12-03  555.140015  \n",
       "2024-12-04  558.640015  \n",
       "2024-12-05  557.710022  \n",
       "2024-12-06  558.820007  \n",
       "2024-12-09  555.909973  \n",
       "2024-12-10  554.330017  \n",
       "2024-12-11  558.530029  "
      ]
     },
     "execution_count": 8,
     "metadata": {},
     "output_type": "execute_result"
    }
   ],
   "source": [
    "prices"
   ]
  },
  {
   "cell_type": "code",
   "execution_count": 9,
   "id": "59fa4923-2365-459b-adcf-72151bca899c",
   "metadata": {},
   "outputs": [],
   "source": [
    "final = prices.pct_change().dropna().iloc[-1:].T.reset_index()"
   ]
  },
  {
   "cell_type": "code",
   "execution_count": 10,
   "id": "69949c13-d53f-485c-a965-b6676d012c47",
   "metadata": {},
   "outputs": [],
   "source": [
    "final.columns = ['ticker', 'pct']"
   ]
  },
  {
   "cell_type": "code",
   "execution_count": 11,
   "id": "05905118-189d-4980-b831-450e0876e550",
   "metadata": {},
   "outputs": [],
   "source": [
    "final_sorted = final.sort_values(by = 'pct', ascending=False)"
   ]
  },
  {
   "cell_type": "code",
   "execution_count": 12,
   "id": "7308b5dd-74d7-495c-a80a-8d435ad7acbf",
   "metadata": {},
   "outputs": [],
   "source": [
    "final_sorted['pct'] = final['pct'].apply(lambda x: f\"{x:.2%}\")"
   ]
  },
  {
   "cell_type": "code",
   "execution_count": 13,
   "id": "fa988948-3482-43db-a439-efb79c25b784",
   "metadata": {},
   "outputs": [
    {
     "data": {
      "text/html": [
       "<div>\n",
       "<style scoped>\n",
       "    .dataframe tbody tr th:only-of-type {\n",
       "        vertical-align: middle;\n",
       "    }\n",
       "\n",
       "    .dataframe tbody tr th {\n",
       "        vertical-align: top;\n",
       "    }\n",
       "\n",
       "    .dataframe thead th {\n",
       "        text-align: right;\n",
       "    }\n",
       "</style>\n",
       "<table border=\"1\" class=\"dataframe\">\n",
       "  <thead>\n",
       "    <tr style=\"text-align: right;\">\n",
       "      <th></th>\n",
       "      <th>ticker</th>\n",
       "      <th>pct</th>\n",
       "    </tr>\n",
       "  </thead>\n",
       "  <tbody>\n",
       "    <tr>\n",
       "      <th>6</th>\n",
       "      <td>iwf</td>\n",
       "      <td>1.68%</td>\n",
       "    </tr>\n",
       "    <tr>\n",
       "      <th>9</th>\n",
       "      <td>vug</td>\n",
       "      <td>1.66%</td>\n",
       "    </tr>\n",
       "    <tr>\n",
       "      <th>3</th>\n",
       "      <td>schg</td>\n",
       "      <td>1.58%</td>\n",
       "    </tr>\n",
       "    <tr>\n",
       "      <th>7</th>\n",
       "      <td>dxj</td>\n",
       "      <td>1.57%</td>\n",
       "    </tr>\n",
       "    <tr>\n",
       "      <th>8</th>\n",
       "      <td>nanc</td>\n",
       "      <td>1.15%</td>\n",
       "    </tr>\n",
       "    <tr>\n",
       "      <th>5</th>\n",
       "      <td>iau</td>\n",
       "      <td>0.92%</td>\n",
       "    </tr>\n",
       "    <tr>\n",
       "      <th>2</th>\n",
       "      <td>vti</td>\n",
       "      <td>0.80%</td>\n",
       "    </tr>\n",
       "    <tr>\n",
       "      <th>0</th>\n",
       "      <td>splg</td>\n",
       "      <td>0.79%</td>\n",
       "    </tr>\n",
       "    <tr>\n",
       "      <th>11</th>\n",
       "      <td>voo</td>\n",
       "      <td>0.76%</td>\n",
       "    </tr>\n",
       "    <tr>\n",
       "      <th>10</th>\n",
       "      <td>schx</td>\n",
       "      <td>0.50%</td>\n",
       "    </tr>\n",
       "    <tr>\n",
       "      <th>1</th>\n",
       "      <td>schb</td>\n",
       "      <td>0.43%</td>\n",
       "    </tr>\n",
       "    <tr>\n",
       "      <th>4</th>\n",
       "      <td>kie</td>\n",
       "      <td>0.41%</td>\n",
       "    </tr>\n",
       "  </tbody>\n",
       "</table>\n",
       "</div>"
      ],
      "text/plain": [
       "   ticker    pct\n",
       "6     iwf  1.68%\n",
       "9     vug  1.66%\n",
       "3    schg  1.58%\n",
       "7     dxj  1.57%\n",
       "8    nanc  1.15%\n",
       "5     iau  0.92%\n",
       "2     vti  0.80%\n",
       "0    splg  0.79%\n",
       "11    voo  0.76%\n",
       "10   schx  0.50%\n",
       "1    schb  0.43%\n",
       "4     kie  0.41%"
      ]
     },
     "execution_count": 13,
     "metadata": {},
     "output_type": "execute_result"
    }
   ],
   "source": [
    "final_sorted"
   ]
  },
  {
   "cell_type": "code",
   "execution_count": 14,
   "id": "d2643a3a-ade8-4ae2-8b52-058548928768",
   "metadata": {},
   "outputs": [
    {
     "name": "stdout",
     "output_type": "stream",
     "text": [
      "object\n"
     ]
    }
   ],
   "source": [
    "print(final_sorted['pct'].dtype)"
   ]
  },
  {
   "cell_type": "code",
   "execution_count": 15,
   "id": "f6916ee9-f721-4b82-8ec5-86bb63ba2f0a",
   "metadata": {},
   "outputs": [],
   "source": [
    "best = final.nlargest(5, 'pct')"
   ]
  },
  {
   "cell_type": "code",
   "execution_count": 16,
   "id": "4aaa94dd-dfa7-494f-be51-ac863b9f50da",
   "metadata": {},
   "outputs": [],
   "source": [
    "best = best.sort_values(by = 'pct', ascending=False)"
   ]
  },
  {
   "cell_type": "code",
   "execution_count": 17,
   "id": "0b1fe418-f529-4c50-b0b7-ab12f9a9c88e",
   "metadata": {},
   "outputs": [],
   "source": [
    "best['pct'] = best['pct'].apply(lambda x: f\"{x:.2%}\")"
   ]
  },
  {
   "cell_type": "code",
   "execution_count": 18,
   "id": "8e3ff478-27eb-4e2e-bd9f-1fe69b054aad",
   "metadata": {},
   "outputs": [
    {
     "data": {
      "text/html": [
       "<div>\n",
       "<style scoped>\n",
       "    .dataframe tbody tr th:only-of-type {\n",
       "        vertical-align: middle;\n",
       "    }\n",
       "\n",
       "    .dataframe tbody tr th {\n",
       "        vertical-align: top;\n",
       "    }\n",
       "\n",
       "    .dataframe thead th {\n",
       "        text-align: right;\n",
       "    }\n",
       "</style>\n",
       "<table border=\"1\" class=\"dataframe\">\n",
       "  <thead>\n",
       "    <tr style=\"text-align: right;\">\n",
       "      <th></th>\n",
       "      <th>ticker</th>\n",
       "      <th>pct</th>\n",
       "    </tr>\n",
       "  </thead>\n",
       "  <tbody>\n",
       "    <tr>\n",
       "      <th>6</th>\n",
       "      <td>iwf</td>\n",
       "      <td>1.68%</td>\n",
       "    </tr>\n",
       "    <tr>\n",
       "      <th>9</th>\n",
       "      <td>vug</td>\n",
       "      <td>1.66%</td>\n",
       "    </tr>\n",
       "    <tr>\n",
       "      <th>3</th>\n",
       "      <td>schg</td>\n",
       "      <td>1.58%</td>\n",
       "    </tr>\n",
       "    <tr>\n",
       "      <th>7</th>\n",
       "      <td>dxj</td>\n",
       "      <td>1.57%</td>\n",
       "    </tr>\n",
       "    <tr>\n",
       "      <th>8</th>\n",
       "      <td>nanc</td>\n",
       "      <td>1.15%</td>\n",
       "    </tr>\n",
       "  </tbody>\n",
       "</table>\n",
       "</div>"
      ],
      "text/plain": [
       "  ticker    pct\n",
       "6    iwf  1.68%\n",
       "9    vug  1.66%\n",
       "3   schg  1.58%\n",
       "7    dxj  1.57%\n",
       "8   nanc  1.15%"
      ]
     },
     "execution_count": 18,
     "metadata": {},
     "output_type": "execute_result"
    }
   ],
   "source": [
    "best"
   ]
  },
  {
   "cell_type": "code",
   "execution_count": 19,
   "id": "510ba2cb-102a-4c56-aabe-ceced392cb56",
   "metadata": {},
   "outputs": [],
   "source": [
    "worst = final.nsmallest(5, 'pct')"
   ]
  },
  {
   "cell_type": "code",
   "execution_count": 20,
   "id": "a68bcf61-1082-4713-8208-dd61f31609b7",
   "metadata": {},
   "outputs": [],
   "source": [
    "worst = worst.sort_values(by = 'pct', ascending=True)"
   ]
  },
  {
   "cell_type": "code",
   "execution_count": 21,
   "id": "77821d44-d15b-4406-b28a-2ba12b230248",
   "metadata": {},
   "outputs": [],
   "source": [
    "worst['pct'] = worst['pct'].apply(lambda x: f\"{x:.2%}\")"
   ]
  },
  {
   "cell_type": "code",
   "execution_count": 22,
   "id": "e53708ed-7975-4b16-93e2-bc26b0324a02",
   "metadata": {},
   "outputs": [
    {
     "data": {
      "text/html": [
       "<div>\n",
       "<style scoped>\n",
       "    .dataframe tbody tr th:only-of-type {\n",
       "        vertical-align: middle;\n",
       "    }\n",
       "\n",
       "    .dataframe tbody tr th {\n",
       "        vertical-align: top;\n",
       "    }\n",
       "\n",
       "    .dataframe thead th {\n",
       "        text-align: right;\n",
       "    }\n",
       "</style>\n",
       "<table border=\"1\" class=\"dataframe\">\n",
       "  <thead>\n",
       "    <tr style=\"text-align: right;\">\n",
       "      <th></th>\n",
       "      <th>ticker</th>\n",
       "      <th>pct</th>\n",
       "    </tr>\n",
       "  </thead>\n",
       "  <tbody>\n",
       "    <tr>\n",
       "      <th>4</th>\n",
       "      <td>kie</td>\n",
       "      <td>0.41%</td>\n",
       "    </tr>\n",
       "    <tr>\n",
       "      <th>1</th>\n",
       "      <td>schb</td>\n",
       "      <td>0.43%</td>\n",
       "    </tr>\n",
       "    <tr>\n",
       "      <th>10</th>\n",
       "      <td>schx</td>\n",
       "      <td>0.50%</td>\n",
       "    </tr>\n",
       "    <tr>\n",
       "      <th>11</th>\n",
       "      <td>voo</td>\n",
       "      <td>0.76%</td>\n",
       "    </tr>\n",
       "    <tr>\n",
       "      <th>0</th>\n",
       "      <td>splg</td>\n",
       "      <td>0.79%</td>\n",
       "    </tr>\n",
       "  </tbody>\n",
       "</table>\n",
       "</div>"
      ],
      "text/plain": [
       "   ticker    pct\n",
       "4     kie  0.41%\n",
       "1    schb  0.43%\n",
       "10   schx  0.50%\n",
       "11    voo  0.76%\n",
       "0    splg  0.79%"
      ]
     },
     "execution_count": 22,
     "metadata": {},
     "output_type": "execute_result"
    }
   ],
   "source": [
    "worst"
   ]
  },
  {
   "cell_type": "markdown",
   "id": "f6d20391-94da-44d6-b869-25f4b298bc71",
   "metadata": {},
   "source": [
    "## Cumulative Returns Analysis"
   ]
  },
  {
   "cell_type": "markdown",
   "id": "afb92071-53af-4d69-9af9-a0baa590ceb7",
   "metadata": {},
   "source": [
    "This calculation is helpful for analyzing the overall performance of different assets within a portfolio and can also assist in comparing individual assets to an index like the S&P 500."
   ]
  },
  {
   "cell_type": "code",
   "execution_count": 23,
   "id": "9a3ba7aa-8ada-4ccc-8bd9-acebd137087b",
   "metadata": {},
   "outputs": [],
   "source": [
    "cumulative_returns = prices.calc_total_return()"
   ]
  },
  {
   "cell_type": "code",
   "execution_count": 24,
   "id": "a06b4775-8e7f-410d-b5dd-3ac2a1ab550d",
   "metadata": {},
   "outputs": [],
   "source": [
    "cumulative_returns = cumulative_returns.sort_values(ascending=False)"
   ]
  },
  {
   "cell_type": "code",
   "execution_count": 25,
   "id": "4794d0f6-b14e-431f-92ef-084c747add43",
   "metadata": {},
   "outputs": [],
   "source": [
    "cumulative_returns = cumulative_returns.apply(lambda x: f\"{x:.2%}\")"
   ]
  },
  {
   "cell_type": "code",
   "execution_count": 26,
   "id": "0f77801d-c5d5-49a3-be88-c34701d49766",
   "metadata": {},
   "outputs": [
    {
     "name": "stdout",
     "output_type": "stream",
     "text": [
      "vug      4.50%\n",
      "iwf      4.36%\n",
      "schg     3.81%\n",
      "iau      3.62%\n",
      "nanc     1.96%\n",
      "dxj      1.64%\n",
      "voo      1.48%\n",
      "splg     1.48%\n",
      "vti      1.43%\n",
      "schx     1.31%\n",
      "schb     1.03%\n",
      "kie     -1.57%\n",
      "dtype: object\n"
     ]
    }
   ],
   "source": [
    "print(cumulative_returns)"
   ]
  },
  {
   "cell_type": "code",
   "execution_count": 27,
   "id": "a8064989-9e4d-4613-8276-05bf1d85fa94",
   "metadata": {},
   "outputs": [
    {
     "name": "stdout",
     "output_type": "stream",
     "text": [
      "object\n"
     ]
    }
   ],
   "source": [
    "print(cumulative_returns.dtype)"
   ]
  },
  {
   "cell_type": "markdown",
   "id": "828e43cf-1461-4d84-86f4-5917a540a709",
   "metadata": {},
   "source": [
    "## Sharpe Ratio Calculation"
   ]
  },
  {
   "cell_type": "markdown",
   "id": "91dc2cb9-ed7e-4328-a365-c06cd0295562",
   "metadata": {},
   "source": [
    "The Sharpe Ratio is a popular metric that allows investors to assess the risk-adjusted return of an investment. A higher Sharpe Ratio indicates that the asset is providing a higher return for a given level of risk. The ffn library allows you to calculate the Sharpe Ratio easily"
   ]
  },
  {
   "cell_type": "code",
   "execution_count": 28,
   "id": "d77bd77b-6324-43c2-8698-d584b5be583d",
   "metadata": {},
   "outputs": [],
   "source": [
    "sharpe_ratios = prices.calc_stats()"
   ]
  },
  {
   "cell_type": "code",
   "execution_count": 29,
   "id": "28dd1d0c-88af-46ba-9a89-13e4decd3619",
   "metadata": {},
   "outputs": [
    {
     "name": "stdout",
     "output_type": "stream",
     "text": [
      "Stat                 splg        schb        vti         schg        kie         iau         iwf         dxj         nanc        vug         schx        voo\n",
      "-------------------  ----------  ----------  ----------  ----------  ----------  ----------  ----------  ----------  ----------  ----------  ----------  ----------\n",
      "Start                2024-11-11  2024-11-11  2024-11-11  2024-11-11  2024-11-11  2024-11-11  2024-11-11  2024-11-11  2024-11-11  2024-11-11  2024-11-11  2024-11-11\n",
      "End                  2024-12-11  2024-12-11  2024-12-11  2024-12-11  2024-12-11  2024-12-11  2024-12-11  2024-12-11  2024-12-11  2024-12-11  2024-12-11  2024-12-11\n",
      "Risk-free rate       0.00%       0.00%       0.00%       0.00%       0.00%       0.00%       0.00%       0.00%       0.00%       0.00%       0.00%       0.00%\n",
      "\n",
      "Total Return         1.48%       1.03%       1.43%       3.81%       -1.57%      3.62%       4.36%       1.64%       1.96%       4.50%       1.31%       1.48%\n",
      "Daily Sharpe         2.21        1.50        2.02        3.41        -1.36       2.60        3.88        1.30        2.00        4.10        1.95        2.26\n",
      "Daily Sortino        3.49        2.37        3.27        5.92        -2.00       4.03        6.76        2.22        3.22        7.13        3.04        3.52\n",
      "CAGR                 19.54%      13.28%      18.90%      57.66%      -17.51%     54.10%      68.07%      21.89%      26.69%      70.98%      17.13%      19.54%\n",
      "Max Drawdown         -2.17%      -2.45%      -2.43%      -3.02%      -6.34%      -2.92%      -2.82%      -3.61%      -2.54%      -2.68%      -2.19%      -2.16%\n",
      "Calmar Ratio         8.99        5.43        7.78        19.10       -2.76       18.55       24.15       6.06        10.50       26.45       7.81        9.04\n",
      "\n",
      "MTD                  0.80%       0.26%       0.65%       3.92%       -5.86%      2.09%       4.38%       3.74%       1.48%       4.35%       0.59%       0.92%\n",
      "3m                   -           -           -           -           -           -           -           -           -           -           -           -\n",
      "6m                   -           -           -           -           -           -           -           -           -           -           -           -\n",
      "YTD                  1.48%       1.03%       1.43%       3.81%       -1.57%      3.62%       4.36%       1.64%       1.96%       4.50%       1.31%       1.48%\n",
      "1Y                   -           -           -           -           -           -           -           -           -           -           -           -\n",
      "3Y (ann.)            -           -           -           -           -           -           -           -           -           -           -           -\n",
      "5Y (ann.)            -           -           -           -           -           -           -           -           -           -           -           -\n",
      "10Y (ann.)           -           -           -           -           -           -           -           -           -           -           -           -\n",
      "Since Incep. (ann.)  19.54%      13.28%      18.90%      57.66%      -17.51%     54.10%      68.07%      21.89%      26.69%      70.98%      17.13%      19.54%\n",
      "\n",
      "Daily Sharpe         2.21        1.50        2.02        3.41        -1.36       2.60        3.88        1.30        2.00        4.10        1.95        2.26\n",
      "Daily Sortino        3.49        2.37        3.27        5.92        -2.00       4.03        6.76        2.22        3.22        7.13        3.04        3.52\n",
      "Daily Mean (ann.)    17.91%      12.63%      17.42%      45.77%      -18.13%     44.03%      52.08%      20.73%      24.01%      53.74%      15.90%      17.90%\n",
      "Daily Vol (ann.)     8.10%       8.40%       8.64%       13.43%      13.30%      16.96%      13.41%      15.92%      12.03%      13.12%      8.17%       7.93%\n",
      "Daily Skew           -0.95       -0.86       -0.78       -0.59       -0.59       -1.11       -0.68       -0.27       -0.66       -0.66       -0.99       -1.04\n",
      "Daily Kurt           0.98        0.44        0.14        1.10        0.71        2.20        1.47        -0.31       1.40        1.63        0.63        1.21\n",
      "Best Day             0.79%       0.77%       0.80%       1.58%       1.46%       1.90%       1.68%       1.64%       1.44%       1.66%       0.75%       0.76%\n",
      "Worst Day            -1.29%      -1.30%      -1.27%      -2.03%      -1.97%      -2.92%      -2.08%      -1.99%      -1.92%      -2.04%      -1.28%      -1.29%\n",
      "\n",
      "Monthly Sharpe       -           -           -           -           -           -           -           -           -           -           -           -\n",
      "Monthly Sortino      -           -           -           -           -           -           -           -           -           -           -           -\n",
      "Monthly Mean (ann.)  9.65%       3.07%       7.76%       47.07%      -70.29%     25.07%      52.59%      44.90%      17.72%      52.15%      7.03%       11.01%\n",
      "Monthly Vol (ann.)   -           -           -           -           -           -           -           -           -           -           -           -\n",
      "Monthly Skew         -           -           -           -           -           -           -           -           -           -           -           -\n",
      "Monthly Kurt         -           -           -           -           -           -           -           -           -           -           -           -\n",
      "Best Month           0.80%       0.26%       0.65%       3.92%       -5.86%      2.09%       4.38%       3.74%       1.48%       4.35%       0.59%       0.92%\n",
      "Worst Month          0.80%       0.26%       0.65%       3.92%       -5.86%      2.09%       4.38%       3.74%       1.48%       4.35%       0.59%       0.92%\n",
      "\n",
      "Yearly Sharpe        -           -           -           -           -           -           -           -           -           -           -           -\n",
      "Yearly Sortino       -           -           -           -           -           -           -           -           -           -           -           -\n",
      "Yearly Mean          -           -           -           -           -           -           -           -           -           -           -           -\n",
      "Yearly Vol           -           -           -           -           -           -           -           -           -           -           -           -\n",
      "Yearly Skew          -           -           -           -           -           -           -           -           -           -           -           -\n",
      "Yearly Kurt          -           -           -           -           -           -           -           -           -           -           -           -\n",
      "Best Year            -           -           -           -           -           -           -           -           -           -           -           -\n",
      "Worst Year           -           -           -           -           -           -           -           -           -           -           -           -\n",
      "\n",
      "Avg. Drawdown        -0.88%      -0.95%      -1.00%      -1.45%      -2.40%      -2.61%      -1.27%      -2.06%      -1.62%      -1.21%      -0.94%      -0.86%\n",
      "Avg. Drawdown Days   4.75        5.50        4.50        7.67        5.33        11.50       7.33        14.00       7.33        6.33        4.50        4.75\n",
      "Avg. Up Month        0.80%       0.26%       0.65%       3.92%       -           2.09%       4.38%       3.74%       1.48%       4.35%       0.59%       0.92%\n",
      "Avg. Down Month      -           -           -           -           -5.86%      -           -           -           -           -           -           -\n",
      "Win Year %           -           -           -           -           -           -           -           -           -           -           -           -\n",
      "Win 12m %            -           -           -           -           -           -           -           -           -           -           -           -\n"
     ]
    }
   ],
   "source": [
    "sharpe_ratios.display()"
   ]
  },
  {
   "cell_type": "markdown",
   "id": "5914d548-f459-4b15-b746-f420f3233782",
   "metadata": {},
   "source": [
    "## Rolling Volatility"
   ]
  },
  {
   "cell_type": "code",
   "execution_count": 30,
   "id": "8e796000-bde4-47cf-b4ff-d044e2e3c42c",
   "metadata": {},
   "outputs": [],
   "source": [
    "rolling_vol = prices.rolling(3).std()"
   ]
  },
  {
   "cell_type": "code",
   "execution_count": 31,
   "id": "84a32793-7b4b-4453-a386-6bcd99df591e",
   "metadata": {},
   "outputs": [
    {
     "name": "stdout",
     "output_type": "stream",
     "text": [
      "                splg      schb       vti      schg       kie       iau  \\\n",
      "Date                                                                     \n",
      "2024-12-05  0.233023  0.090738  1.014767  0.230651  0.171560  0.186102   \n",
      "2024-12-06  0.079369  0.037860  0.484990  0.105039  0.321300  0.210793   \n",
      "2024-12-09  0.196723  0.070238  0.967706  0.118462  0.799000  0.285832   \n",
      "2024-12-10  0.313420  0.120554  1.547332  0.144221  1.125300  0.577091   \n",
      "2024-12-11  0.281483  0.057734  1.205765  0.240069  0.617981  0.567657   \n",
      "\n",
      "                 iwf       dxj      nanc       vug      schx       voo  \n",
      "Date                                                                    \n",
      "2024-12-05  3.244225  0.180277  0.310053  3.395970  0.090738  1.812909  \n",
      "2024-12-06  1.716399  0.158218  0.057734  1.493602  0.040414  0.595728  \n",
      "2024-12-09  1.680485  0.105356  0.225166  1.648349  0.075055  1.468590  \n",
      "2024-12-10  1.953974  0.085048  0.282901  1.798783  0.121243  2.277593  \n",
      "2024-12-11  3.682254  1.028461  0.233523  3.898135  0.062450  2.121362  \n"
     ]
    }
   ],
   "source": [
    "print(rolling_vol.tail())"
   ]
  },
  {
   "cell_type": "markdown",
   "id": "f25567fe-e9c7-4eb1-bf97-db90b7194046",
   "metadata": {},
   "source": [
    "## Portfolio Optimization"
   ]
  },
  {
   "cell_type": "markdown",
   "id": "9f5019ea-c2db-428f-b89c-11e45a4e3a49",
   "metadata": {},
   "source": [
    "This method of portfolio optimization leverages historical data to create an allocation that minimizes risk while targeting a desired return."
   ]
  },
  {
   "cell_type": "code",
   "execution_count": 32,
   "id": "9f47cadc-0e85-42b0-a72c-6a9063e4c1b8",
   "metadata": {},
   "outputs": [],
   "source": [
    "expected_returns = prices.calc_stats().stats.loc['cagr']"
   ]
  },
  {
   "cell_type": "code",
   "execution_count": 33,
   "id": "f2de3de0-ab74-4560-837f-3c6f4019fecb",
   "metadata": {},
   "outputs": [
    {
     "data": {
      "text/plain": [
       "splg    0.195414\n",
       "schb    0.132823\n",
       "vti     0.188958\n",
       "schg    0.576604\n",
       "kie    -0.175148\n",
       "iau     0.540965\n",
       "iwf     0.680651\n",
       "dxj     0.218928\n",
       "nanc     0.26685\n",
       "vug     0.709826\n",
       "schx    0.171268\n",
       "voo      0.19545\n",
       "Name: cagr, dtype: object"
      ]
     },
     "execution_count": 33,
     "metadata": {},
     "output_type": "execute_result"
    }
   ],
   "source": [
    "expected_returns"
   ]
  },
  {
   "cell_type": "code",
   "execution_count": 34,
   "id": "0ec313c4-eb78-4af4-afea-c5ad5e6f9d73",
   "metadata": {},
   "outputs": [],
   "source": [
    "tickers_filtered = expected_returns[expected_returns > 0].index.tolist()"
   ]
  },
  {
   "cell_type": "code",
   "execution_count": 35,
   "id": "cb005ceb-1953-4b18-8065-4e15f4e162e2",
   "metadata": {},
   "outputs": [
    {
     "data": {
      "text/plain": [
       "['splg',\n",
       " 'schb',\n",
       " 'vti',\n",
       " 'schg',\n",
       " 'iau',\n",
       " 'iwf',\n",
       " 'dxj',\n",
       " 'nanc',\n",
       " 'vug',\n",
       " 'schx',\n",
       " 'voo']"
      ]
     },
     "execution_count": 35,
     "metadata": {},
     "output_type": "execute_result"
    }
   ],
   "source": [
    "tickers_filtered"
   ]
  },
  {
   "cell_type": "code",
   "execution_count": 36,
   "id": "3c61bf49-0924-4de5-b273-40c52ddee2bd",
   "metadata": {},
   "outputs": [],
   "source": [
    "portfolio = prices.calc_stats()"
   ]
  },
  {
   "cell_type": "code",
   "execution_count": 37,
   "id": "16e58b53-fe11-4856-bac3-791624f3d108",
   "metadata": {},
   "outputs": [
    {
     "name": "stdout",
     "output_type": "stream",
     "text": [
      "['__class__', '__class_getitem__', '__contains__', '__delattr__', '__delitem__', '__dict__', '__dir__', '__doc__', '__eq__', '__format__', '__ge__', '__getattribute__', '__getitem__', '__getstate__', '__gt__', '__hash__', '__init__', '__init_subclass__', '__ior__', '__iter__', '__le__', '__len__', '__lt__', '__module__', '__ne__', '__new__', '__or__', '__reduce__', '__reduce_ex__', '__repr__', '__reversed__', '__ror__', '__setattr__', '__setitem__', '__sizeof__', '__str__', '__subclasshook__', '__weakref__', '_calculate', '_end', '_get_default_plot_title', '_get_series', '_names', '_prices', '_start', '_stats', '_update', '_update_stats', 'clear', 'copy', 'display', 'display_lookback_returns', 'fromkeys', 'get', 'items', 'keys', 'lookback_returns', 'plot', 'plot_correlation', 'plot_histograms', 'plot_scatter_matrix', 'pop', 'popitem', 'prices', 'set_date_range', 'set_riskfree_rate', 'setdefault', 'stats', 'to_csv', 'update', 'values']\n"
     ]
    }
   ],
   "source": [
    "print(dir(portfolio))"
   ]
  },
  {
   "cell_type": "code",
   "execution_count": 144,
   "id": "fe8d4206-1305-4491-a4a9-d79b3f82dac6",
   "metadata": {},
   "outputs": [
    {
     "ename": "AttributeError",
     "evalue": "'DataFrame' object has no attribute 'calc_sharpe_weights'",
     "output_type": "error",
     "traceback": [
      "\u001b[1;31m---------------------------------------------------------------------------\u001b[0m",
      "\u001b[1;31mAttributeError\u001b[0m                            Traceback (most recent call last)",
      "\u001b[1;32m~\\AppData\\Local\\Temp\\ipykernel_4632\\2292237038.py\u001b[0m in \u001b[0;36m?\u001b[1;34m()\u001b[0m\n\u001b[1;32m----> 1\u001b[1;33m \u001b[0mweights\u001b[0m \u001b[1;33m=\u001b[0m \u001b[0mportfolio\u001b[0m\u001b[1;33m.\u001b[0m\u001b[0mcalc_sharpe_weights\u001b[0m\u001b[1;33m(\u001b[0m\u001b[1;33m)\u001b[0m\u001b[1;33m.\u001b[0m\u001b[0mas_format\u001b[0m\u001b[1;33m(\u001b[0m\u001b[1;34m'.2%'\u001b[0m\u001b[1;33m)\u001b[0m\u001b[1;33m\u001b[0m\u001b[1;33m\u001b[0m\u001b[0m\n\u001b[0m",
      "\u001b[1;32m~\\miniconda3_nov2024\\envs\\env1\\Lib\\site-packages\\pandas\\core\\generic.py\u001b[0m in \u001b[0;36m?\u001b[1;34m(self, name)\u001b[0m\n\u001b[0;32m   6295\u001b[0m             \u001b[1;32mand\u001b[0m \u001b[0mname\u001b[0m \u001b[1;32mnot\u001b[0m \u001b[1;32min\u001b[0m \u001b[0mself\u001b[0m\u001b[1;33m.\u001b[0m\u001b[0m_accessors\u001b[0m\u001b[1;33m\u001b[0m\u001b[1;33m\u001b[0m\u001b[0m\n\u001b[0;32m   6296\u001b[0m             \u001b[1;32mand\u001b[0m \u001b[0mself\u001b[0m\u001b[1;33m.\u001b[0m\u001b[0m_info_axis\u001b[0m\u001b[1;33m.\u001b[0m\u001b[0m_can_hold_identifiers_and_holds_name\u001b[0m\u001b[1;33m(\u001b[0m\u001b[0mname\u001b[0m\u001b[1;33m)\u001b[0m\u001b[1;33m\u001b[0m\u001b[1;33m\u001b[0m\u001b[0m\n\u001b[0;32m   6297\u001b[0m         \u001b[1;33m)\u001b[0m\u001b[1;33m:\u001b[0m\u001b[1;33m\u001b[0m\u001b[1;33m\u001b[0m\u001b[0m\n\u001b[0;32m   6298\u001b[0m             \u001b[1;32mreturn\u001b[0m \u001b[0mself\u001b[0m\u001b[1;33m[\u001b[0m\u001b[0mname\u001b[0m\u001b[1;33m]\u001b[0m\u001b[1;33m\u001b[0m\u001b[1;33m\u001b[0m\u001b[0m\n\u001b[1;32m-> 6299\u001b[1;33m         \u001b[1;32mreturn\u001b[0m \u001b[0mobject\u001b[0m\u001b[1;33m.\u001b[0m\u001b[0m__getattribute__\u001b[0m\u001b[1;33m(\u001b[0m\u001b[0mself\u001b[0m\u001b[1;33m,\u001b[0m \u001b[0mname\u001b[0m\u001b[1;33m)\u001b[0m\u001b[1;33m\u001b[0m\u001b[1;33m\u001b[0m\u001b[0m\n\u001b[0m",
      "\u001b[1;31mAttributeError\u001b[0m: 'DataFrame' object has no attribute 'calc_sharpe_weights'"
     ]
    }
   ],
   "source": [
    "weights = portfolio.calc_sharpe_weights().as_format('.2%')"
   ]
  },
  {
   "cell_type": "code",
   "execution_count": 124,
   "id": "6c611140-c856-4c63-8a46-9b311f8778c4",
   "metadata": {},
   "outputs": [
    {
     "name": "stdout",
     "output_type": "stream",
     "text": [
      "splg     0.69%\n",
      "schb     0.00%\n",
      "vti      0.00%\n",
      "schg     0.00%\n",
      "kie     33.13%\n",
      "iau     14.74%\n",
      "iwf      0.00%\n",
      "dxj     41.70%\n",
      "nanc     0.00%\n",
      "vug      0.00%\n",
      "schx     0.00%\n",
      "voo      9.75%\n",
      "dtype: object\n"
     ]
    }
   ],
   "source": [
    "print(weights)"
   ]
  },
  {
   "cell_type": "markdown",
   "id": "470c18d4-6f56-4e38-9df3-70426070bb4d",
   "metadata": {},
   "source": [
    "## Max Drawdown Analysis"
   ]
  },
  {
   "cell_type": "markdown",
   "id": "c39b8486-b3cc-485f-be0c-71ed4e657af3",
   "metadata": {},
   "source": [
    "The maximum drawdown is an important metric to evaluate the worst peak-to-trough decline during a specific period. It provides insight into how much value an investor could lose most during a downturn:"
   ]
  },
  {
   "cell_type": "code",
   "execution_count": 127,
   "id": "de1fdc89-3890-4f2b-ba2c-f8f69bf7d4e5",
   "metadata": {},
   "outputs": [],
   "source": [
    "max_drawdown = prices.calc_max_drawdown().sort_values(ascending=False)"
   ]
  },
  {
   "cell_type": "code",
   "execution_count": 128,
   "id": "c74883c6-56ed-4100-929d-b6fe70707adb",
   "metadata": {},
   "outputs": [],
   "source": [
    "max_drawdown = max_drawdown.as_format('.2%')"
   ]
  },
  {
   "cell_type": "code",
   "execution_count": 129,
   "id": "9c0286bd-3e4c-4f1c-8314-7a2db044e654",
   "metadata": {},
   "outputs": [
    {
     "name": "stdout",
     "output_type": "stream",
     "text": [
      "voo     -2.16%\n",
      "splg    -2.17%\n",
      "schx    -2.19%\n",
      "vti     -2.43%\n",
      "schb    -2.45%\n",
      "nanc    -2.54%\n",
      "vug     -2.68%\n",
      "iwf     -2.82%\n",
      "iau     -2.92%\n",
      "schg    -3.02%\n",
      "dxj     -3.61%\n",
      "kie     -6.39%\n",
      "dtype: object\n"
     ]
    }
   ],
   "source": [
    "print(max_drawdown)"
   ]
  },
  {
   "cell_type": "markdown",
   "id": "9e51ff5e-e732-41d7-aee0-8ac47f595c64",
   "metadata": {},
   "source": [
    "Consultas: https://chatgpt.com/c/675989fe-f91c-800b-a51c-36da7260404f"
   ]
  },
  {
   "cell_type": "code",
   "execution_count": null,
   "id": "c9c96248-bcdc-4572-9c2e-7421d30798cd",
   "metadata": {},
   "outputs": [],
   "source": []
  }
 ],
 "metadata": {
  "kernelspec": {
   "display_name": "Python 3 (ipykernel)",
   "language": "python",
   "name": "python3"
  },
  "language_info": {
   "codemirror_mode": {
    "name": "ipython",
    "version": 3
   },
   "file_extension": ".py",
   "mimetype": "text/x-python",
   "name": "python",
   "nbconvert_exporter": "python",
   "pygments_lexer": "ipython3",
   "version": "3.12.7"
  }
 },
 "nbformat": 4,
 "nbformat_minor": 5
}
