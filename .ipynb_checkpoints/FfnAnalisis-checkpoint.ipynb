{
 "cells": [
  {
   "cell_type": "code",
   "execution_count": 1,
   "id": "9ae73370-7377-4115-b64a-5cc359754d2f",
   "metadata": {},
   "outputs": [],
   "source": [
    "import ffn\n",
    "import datetime"
   ]
  },
  {
   "cell_type": "code",
   "execution_count": 2,
   "id": "690f5ea5-2edc-4130-89be-d591ec85586b",
   "metadata": {},
   "outputs": [],
   "source": [
    "tickers = ['AAPL','MSFT','NVDA','GOOGL','TSLA','MSTR','PLTR','IAU','SPLG','AMZN', 'META', 'SCHG']"
   ]
  },
  {
   "cell_type": "code",
   "execution_count": 3,
   "id": "47676ece-7675-466a-b297-16534ce3face",
   "metadata": {},
   "outputs": [
    {
     "name": "stderr",
     "output_type": "stream",
     "text": [
      "[*********************100%***********************]  1 of 1 completed\n",
      "[*********************100%***********************]  1 of 1 completed\n",
      "[*********************100%***********************]  1 of 1 completed\n",
      "[*********************100%***********************]  1 of 1 completed\n",
      "[*********************100%***********************]  1 of 1 completed\n",
      "[*********************100%***********************]  1 of 1 completed\n",
      "[*********************100%***********************]  1 of 1 completed\n",
      "[*********************100%***********************]  1 of 1 completed\n",
      "[*********************100%***********************]  1 of 1 completed\n",
      "[*********************100%***********************]  1 of 1 completed\n",
      "[*********************100%***********************]  1 of 1 completed\n",
      "[*********************100%***********************]  1 of 1 completed\n"
     ]
    }
   ],
   "source": [
    "returns = ffn.get(tickers, start='2024-11-12').to_returns().dropna()"
   ]
  },
  {
   "cell_type": "code",
   "execution_count": 4,
   "id": "bdf5fdf9-3aae-4af7-a714-123d9cd2c5b4",
   "metadata": {},
   "outputs": [
    {
     "data": {
      "text/plain": [
       "aapl     40.88%\n",
       "msft     15.76%\n",
       "nvda      0.00%\n",
       "googl     0.07%\n",
       "tsla      6.95%\n",
       "mstr      3.50%\n",
       "pltr     11.57%\n",
       "iau       7.95%\n",
       "splg      0.00%\n",
       "amzn      9.83%\n",
       "meta      3.48%\n",
       "schg      0.00%\n",
       "dtype: object"
      ]
     },
     "execution_count": 4,
     "metadata": {},
     "output_type": "execute_result"
    }
   ],
   "source": [
    "returns.calc_mean_var_weights().as_format('.2%')"
   ]
  },
  {
   "cell_type": "markdown",
   "id": "d0885523-7698-4d4e-aadc-9992c7d61655",
   "metadata": {},
   "source": [
    "# Recent Stock Performance"
   ]
  },
  {
   "cell_type": "code",
   "execution_count": 7,
   "id": "5b381a48-4ffb-4bb3-be8c-f503bf3de137",
   "metadata": {},
   "outputs": [],
   "source": [
    "start_date = datetime.date.today() - datetime.timedelta(days=5)"
   ]
  },
  {
   "cell_type": "code",
   "execution_count": 8,
   "id": "5bdc2192-1772-445e-a3fb-8f29ee5a7b3a",
   "metadata": {},
   "outputs": [
    {
     "data": {
      "text/plain": [
       "datetime.date(2024, 12, 6)"
      ]
     },
     "execution_count": 8,
     "metadata": {},
     "output_type": "execute_result"
    }
   ],
   "source": [
    "start_date"
   ]
  },
  {
   "cell_type": "code",
   "execution_count": 9,
   "id": "f63ecc23-c571-4b20-a639-ee8684528a55",
   "metadata": {},
   "outputs": [
    {
     "name": "stderr",
     "output_type": "stream",
     "text": [
      "[*********************100%***********************]  1 of 1 completed\n",
      "[*********************100%***********************]  1 of 1 completed\n",
      "[*********************100%***********************]  1 of 1 completed\n",
      "[*********************100%***********************]  1 of 1 completed\n",
      "[*********************100%***********************]  1 of 1 completed\n",
      "[*********************100%***********************]  1 of 1 completed\n",
      "[*********************100%***********************]  1 of 1 completed\n",
      "[*********************100%***********************]  1 of 1 completed\n",
      "[*********************100%***********************]  1 of 1 completed\n",
      "[*********************100%***********************]  1 of 1 completed\n",
      "[*********************100%***********************]  1 of 1 completed\n",
      "[*********************100%***********************]  1 of 1 completed\n"
     ]
    }
   ],
   "source": [
    "prices = ffn.get(tickers, start=start_date)"
   ]
  },
  {
   "cell_type": "code",
   "execution_count": 10,
   "id": "59fa4923-2365-459b-adcf-72151bca899c",
   "metadata": {},
   "outputs": [],
   "source": [
    "final = prices.pct_change().dropna().iloc[-1:].T.reset_index()"
   ]
  },
  {
   "cell_type": "code",
   "execution_count": 11,
   "id": "69949c13-d53f-485c-a965-b6676d012c47",
   "metadata": {},
   "outputs": [],
   "source": [
    "final.columns = ['ticker', 'pct']"
   ]
  },
  {
   "cell_type": "code",
   "execution_count": 12,
   "id": "05905118-189d-4980-b831-450e0876e550",
   "metadata": {},
   "outputs": [
    {
     "data": {
      "text/html": [
       "<div>\n",
       "<style scoped>\n",
       "    .dataframe tbody tr th:only-of-type {\n",
       "        vertical-align: middle;\n",
       "    }\n",
       "\n",
       "    .dataframe tbody tr th {\n",
       "        vertical-align: top;\n",
       "    }\n",
       "\n",
       "    .dataframe thead th {\n",
       "        text-align: right;\n",
       "    }\n",
       "</style>\n",
       "<table border=\"1\" class=\"dataframe\">\n",
       "  <thead>\n",
       "    <tr style=\"text-align: right;\">\n",
       "      <th></th>\n",
       "      <th>ticker</th>\n",
       "      <th>pct</th>\n",
       "    </tr>\n",
       "  </thead>\n",
       "  <tbody>\n",
       "    <tr>\n",
       "      <th>0</th>\n",
       "      <td>aapl</td>\n",
       "      <td>0.007459</td>\n",
       "    </tr>\n",
       "    <tr>\n",
       "      <th>1</th>\n",
       "      <td>msft</td>\n",
       "      <td>0.005199</td>\n",
       "    </tr>\n",
       "    <tr>\n",
       "      <th>2</th>\n",
       "      <td>nvda</td>\n",
       "      <td>0.020020</td>\n",
       "    </tr>\n",
       "    <tr>\n",
       "      <th>3</th>\n",
       "      <td>googl</td>\n",
       "      <td>0.034779</td>\n",
       "    </tr>\n",
       "    <tr>\n",
       "      <th>4</th>\n",
       "      <td>tsla</td>\n",
       "      <td>0.012247</td>\n",
       "    </tr>\n",
       "    <tr>\n",
       "      <th>5</th>\n",
       "      <td>mstr</td>\n",
       "      <td>0.051524</td>\n",
       "    </tr>\n",
       "    <tr>\n",
       "      <th>6</th>\n",
       "      <td>pltr</td>\n",
       "      <td>-0.011511</td>\n",
       "    </tr>\n",
       "    <tr>\n",
       "      <th>7</th>\n",
       "      <td>iau</td>\n",
       "      <td>0.003344</td>\n",
       "    </tr>\n",
       "    <tr>\n",
       "      <th>8</th>\n",
       "      <td>splg</td>\n",
       "      <td>0.006049</td>\n",
       "    </tr>\n",
       "    <tr>\n",
       "      <th>9</th>\n",
       "      <td>amzn</td>\n",
       "      <td>0.017568</td>\n",
       "    </tr>\n",
       "    <tr>\n",
       "      <th>10</th>\n",
       "      <td>meta</td>\n",
       "      <td>0.019699</td>\n",
       "    </tr>\n",
       "    <tr>\n",
       "      <th>11</th>\n",
       "      <td>schg</td>\n",
       "      <td>0.008266</td>\n",
       "    </tr>\n",
       "  </tbody>\n",
       "</table>\n",
       "</div>"
      ],
      "text/plain": [
       "   ticker       pct\n",
       "0    aapl  0.007459\n",
       "1    msft  0.005199\n",
       "2    nvda  0.020020\n",
       "3   googl  0.034779\n",
       "4    tsla  0.012247\n",
       "5    mstr  0.051524\n",
       "6    pltr -0.011511\n",
       "7     iau  0.003344\n",
       "8    splg  0.006049\n",
       "9    amzn  0.017568\n",
       "10   meta  0.019699\n",
       "11   schg  0.008266"
      ]
     },
     "execution_count": 12,
     "metadata": {},
     "output_type": "execute_result"
    }
   ],
   "source": [
    "final"
   ]
  },
  {
   "cell_type": "code",
   "execution_count": 13,
   "id": "f6916ee9-f721-4b82-8ec5-86bb63ba2f0a",
   "metadata": {},
   "outputs": [],
   "source": [
    "best = final.nlargest(5, 'pct')"
   ]
  },
  {
   "cell_type": "code",
   "execution_count": 14,
   "id": "4aaa94dd-dfa7-494f-be51-ac863b9f50da",
   "metadata": {},
   "outputs": [
    {
     "data": {
      "text/html": [
       "<div>\n",
       "<style scoped>\n",
       "    .dataframe tbody tr th:only-of-type {\n",
       "        vertical-align: middle;\n",
       "    }\n",
       "\n",
       "    .dataframe tbody tr th {\n",
       "        vertical-align: top;\n",
       "    }\n",
       "\n",
       "    .dataframe thead th {\n",
       "        text-align: right;\n",
       "    }\n",
       "</style>\n",
       "<table border=\"1\" class=\"dataframe\">\n",
       "  <thead>\n",
       "    <tr style=\"text-align: right;\">\n",
       "      <th></th>\n",
       "      <th>ticker</th>\n",
       "      <th>pct</th>\n",
       "    </tr>\n",
       "  </thead>\n",
       "  <tbody>\n",
       "    <tr>\n",
       "      <th>5</th>\n",
       "      <td>mstr</td>\n",
       "      <td>0.051524</td>\n",
       "    </tr>\n",
       "    <tr>\n",
       "      <th>3</th>\n",
       "      <td>googl</td>\n",
       "      <td>0.034779</td>\n",
       "    </tr>\n",
       "    <tr>\n",
       "      <th>2</th>\n",
       "      <td>nvda</td>\n",
       "      <td>0.020020</td>\n",
       "    </tr>\n",
       "    <tr>\n",
       "      <th>10</th>\n",
       "      <td>meta</td>\n",
       "      <td>0.019699</td>\n",
       "    </tr>\n",
       "    <tr>\n",
       "      <th>9</th>\n",
       "      <td>amzn</td>\n",
       "      <td>0.017568</td>\n",
       "    </tr>\n",
       "  </tbody>\n",
       "</table>\n",
       "</div>"
      ],
      "text/plain": [
       "   ticker       pct\n",
       "5    mstr  0.051524\n",
       "3   googl  0.034779\n",
       "2    nvda  0.020020\n",
       "10   meta  0.019699\n",
       "9    amzn  0.017568"
      ]
     },
     "execution_count": 14,
     "metadata": {},
     "output_type": "execute_result"
    }
   ],
   "source": [
    "best"
   ]
  },
  {
   "cell_type": "code",
   "execution_count": 15,
   "id": "510ba2cb-102a-4c56-aabe-ceced392cb56",
   "metadata": {},
   "outputs": [],
   "source": [
    "worst = final.nsmallest(5, 'pct')"
   ]
  },
  {
   "cell_type": "code",
   "execution_count": 16,
   "id": "e53708ed-7975-4b16-93e2-bc26b0324a02",
   "metadata": {},
   "outputs": [
    {
     "data": {
      "text/html": [
       "<div>\n",
       "<style scoped>\n",
       "    .dataframe tbody tr th:only-of-type {\n",
       "        vertical-align: middle;\n",
       "    }\n",
       "\n",
       "    .dataframe tbody tr th {\n",
       "        vertical-align: top;\n",
       "    }\n",
       "\n",
       "    .dataframe thead th {\n",
       "        text-align: right;\n",
       "    }\n",
       "</style>\n",
       "<table border=\"1\" class=\"dataframe\">\n",
       "  <thead>\n",
       "    <tr style=\"text-align: right;\">\n",
       "      <th></th>\n",
       "      <th>ticker</th>\n",
       "      <th>pct</th>\n",
       "    </tr>\n",
       "  </thead>\n",
       "  <tbody>\n",
       "    <tr>\n",
       "      <th>6</th>\n",
       "      <td>pltr</td>\n",
       "      <td>-0.011511</td>\n",
       "    </tr>\n",
       "    <tr>\n",
       "      <th>7</th>\n",
       "      <td>iau</td>\n",
       "      <td>0.003344</td>\n",
       "    </tr>\n",
       "    <tr>\n",
       "      <th>1</th>\n",
       "      <td>msft</td>\n",
       "      <td>0.005199</td>\n",
       "    </tr>\n",
       "    <tr>\n",
       "      <th>8</th>\n",
       "      <td>splg</td>\n",
       "      <td>0.006049</td>\n",
       "    </tr>\n",
       "    <tr>\n",
       "      <th>0</th>\n",
       "      <td>aapl</td>\n",
       "      <td>0.007459</td>\n",
       "    </tr>\n",
       "  </tbody>\n",
       "</table>\n",
       "</div>"
      ],
      "text/plain": [
       "  ticker       pct\n",
       "6   pltr -0.011511\n",
       "7    iau  0.003344\n",
       "1   msft  0.005199\n",
       "8   splg  0.006049\n",
       "0   aapl  0.007459"
      ]
     },
     "execution_count": 16,
     "metadata": {},
     "output_type": "execute_result"
    }
   ],
   "source": [
    "worst"
   ]
  },
  {
   "cell_type": "markdown",
   "id": "f6d20391-94da-44d6-b869-25f4b298bc71",
   "metadata": {},
   "source": [
    "## Cumulative Returns Analysis"
   ]
  },
  {
   "cell_type": "markdown",
   "id": "afb92071-53af-4d69-9af9-a0baa590ceb7",
   "metadata": {},
   "source": [
    "This calculation is helpful for analyzing the overall performance of different assets within a portfolio and can also assist in comparing individual assets to an index like the S&P 500."
   ]
  },
  {
   "cell_type": "code",
   "execution_count": 17,
   "id": "9a3ba7aa-8ada-4ccc-8bd9-acebd137087b",
   "metadata": {},
   "outputs": [],
   "source": [
    "cumulative_returns = prices.calc_total_return()"
   ]
  },
  {
   "cell_type": "code",
   "execution_count": 18,
   "id": "0f77801d-c5d5-49a3-be88-c34701d49766",
   "metadata": {},
   "outputs": [
    {
     "name": "stdout",
     "output_type": "stream",
     "text": [
      "aapl     0.027912\n",
      "msft     0.004655\n",
      "nvda    -0.032757\n",
      "googl    0.097989\n",
      "tsla     0.042857\n",
      "mstr     0.004433\n",
      "pltr    -0.082080\n",
      "iau      0.026570\n",
      "splg    -0.002672\n",
      "amzn     0.008649\n",
      "meta     0.012424\n",
      "schg    -0.001567\n",
      "dtype: float64\n"
     ]
    }
   ],
   "source": [
    "print(cumulative_returns)"
   ]
  },
  {
   "cell_type": "markdown",
   "id": "828e43cf-1461-4d84-86f4-5917a540a709",
   "metadata": {},
   "source": [
    "## Sharpe Ratio Calculation"
   ]
  },
  {
   "cell_type": "markdown",
   "id": "91dc2cb9-ed7e-4328-a365-c06cd0295562",
   "metadata": {},
   "source": [
    "The Sharpe Ratio is a popular metric that allows investors to assess the risk-adjusted return of an investment. A higher Sharpe Ratio indicates that the asset is providing a higher return for a given level of risk. The ffn library allows you to calculate the Sharpe Ratio easily"
   ]
  },
  {
   "cell_type": "code",
   "execution_count": 19,
   "id": "d77bd77b-6324-43c2-8698-d584b5be583d",
   "metadata": {},
   "outputs": [],
   "source": [
    "sharpe_ratios = prices.calc_stats()"
   ]
  },
  {
   "cell_type": "code",
   "execution_count": 23,
   "id": "28dd1d0c-88af-46ba-9a89-13e4decd3619",
   "metadata": {},
   "outputs": [
    {
     "name": "stdout",
     "output_type": "stream",
     "text": [
      "Stat                 aapl        msft        nvda        googl       tsla        mstr        pltr        iau         splg        amzn        meta        schg\n",
      "-------------------  ----------  ----------  ----------  ----------  ----------  ----------  ----------  ----------  ----------  ----------  ----------  ----------\n",
      "Start                2024-12-06  2024-12-06  2024-12-06  2024-12-06  2024-12-06  2024-12-06  2024-12-06  2024-12-06  2024-12-06  2024-12-06  2024-12-06  2024-12-06\n",
      "End                  2024-12-11  2024-12-11  2024-12-11  2024-12-11  2024-12-11  2024-12-11  2024-12-11  2024-12-11  2024-12-11  2024-12-11  2024-12-11  2024-12-11\n",
      "Risk-free rate       0.00%       0.00%       0.00%       0.00%       0.00%       0.00%       0.00%       0.00%       0.00%       0.00%       0.00%       0.00%\n",
      "\n",
      "Total Return         2.79%       0.47%       -3.28%      9.80%       4.29%       0.44%       -8.21%      2.66%       -0.27%      0.86%       1.24%       -0.16%\n",
      "Daily Sharpe         23.72       3.77        -6.42       19.76       16.35       0.71        -21.78      27.94       -2.29       3.67        3.62        -1.01\n",
      "Daily Sortino        inf         7.13        -11.32      inf         inf         1.12        -21.78      inf         -5.09       18.24       7.13        -2.27\n",
      "CAGR                 647.09%     40.39%      -91.22%     92299.89%   2044.46%    38.14%      -99.81%     579.10%     -17.75%     87.59%      146.46%     -10.83%\n",
      "Max Drawdown         0.00%       -0.60%      -5.17%      0.00%       0.00%       -7.51%      -8.21%      0.00%       -0.87%      -0.88%      -1.64%      -0.98%\n",
      "Calmar Ratio         inf         66.98       -17.63      inf         inf         5.08        -12.16      inf         -20.48      99.92       89.56       -11.10\n",
      "\n",
      "MTD                  2.79%       0.47%       -3.28%      9.80%       4.29%       0.44%       -8.21%      2.66%       -0.27%      0.86%       1.24%       -0.16%\n",
      "3m                   -           -           -           -           -           -           -           -           -           -           -           -\n",
      "6m                   -           -           -           -           -           -           -           -           -           -           -           -\n",
      "YTD                  2.79%       0.47%       -3.28%      9.80%       4.29%       0.44%       -8.21%      2.66%       -0.27%      0.86%       1.24%       -0.16%\n",
      "1Y                   -           -           -           -           -           -           -           -           -           -           -           -\n",
      "3Y (ann.)            -           -           -           -           -           -           -           -           -           -           -           -\n",
      "5Y (ann.)            -           -           -           -           -           -           -           -           -           -           -           -\n",
      "10Y (ann.)           -           -           -           -           -           -           -           -           -           -           -           -\n",
      "Since Incep. (ann.)  647.09%     40.39%      -91.22%     92299.89%   2044.46%    38.14%      -99.81%     579.10%     -17.75%     87.59%      146.46%     -10.83%\n",
      "\n",
      "Daily Sharpe         23.72       3.77        -6.42       19.76       16.35       0.71        -21.78      27.94       -2.29       3.67        3.62        -1.01\n",
      "Daily Sortino        inf         7.13        -11.32      inf         inf         1.12        -21.78      inf         -5.09       18.24       7.13        -2.27\n",
      "Daily Mean (ann.)    232.63%     39.41%      -272.23%    802.95%     356.53%     77.31%      -705.63%    221.45%     -22.15%     73.78%      106.83%     -12.65%\n",
      "Daily Vol (ann.)     9.81%       10.44%      42.39%      40.64%      21.80%      108.50%     32.40%      7.93%       9.69%       20.13%      29.47%      12.50%\n",
      "Daily Skew           1.18        -1.73       1.73        -0.51       0.61        -1.59       -1.26       -0.92       1.48        1.73        -1.15       1.20\n",
      "Daily Kurt           -           -           -           -           -           -           -           -           -           -           -           -\n",
      "Best Day             1.61%       0.55%       2.00%       5.59%       2.87%       5.15%       -1.15%      1.32%       0.60%       1.76%       1.97%       0.83%\n",
      "Worst Day            0.41%       -0.60%      -2.69%      0.49%       0.15%       -7.51%      -5.08%      0.33%       -0.55%      -0.46%      -1.64%      -0.70%\n",
      "\n",
      "Monthly Sharpe       -           -           -           -           -           -           -           -           -           -           -           -\n",
      "Monthly Sortino      -           -           -           -           -           -           -           -           -           -           -           -\n",
      "Monthly Mean (ann.)  -           -           -           -           -           -           -           -           -           -           -           -\n",
      "Monthly Vol (ann.)   -           -           -           -           -           -           -           -           -           -           -           -\n",
      "Monthly Skew         -           -           -           -           -           -           -           -           -           -           -           -\n",
      "Monthly Kurt         -           -           -           -           -           -           -           -           -           -           -           -\n",
      "Best Month           -           -           -           -           -           -           -           -           -           -           -           -\n",
      "Worst Month          -           -           -           -           -           -           -           -           -           -           -           -\n",
      "\n",
      "Yearly Sharpe        -           -           -           -           -           -           -           -           -           -           -           -\n",
      "Yearly Sortino       -           -           -           -           -           -           -           -           -           -           -           -\n",
      "Yearly Mean          -           -           -           -           -           -           -           -           -           -           -           -\n",
      "Yearly Vol           -           -           -           -           -           -           -           -           -           -           -           -\n",
      "Yearly Skew          -           -           -           -           -           -           -           -           -           -           -           -\n",
      "Yearly Kurt          -           -           -           -           -           -           -           -           -           -           -           -\n",
      "Best Year            -           -           -           -           -           -           -           -           -           -           -           -\n",
      "Worst Year           -           -           -           -           -           -           -           -           -           -           -           -\n",
      "\n",
      "Avg. Drawdown        -           -0.60%      -5.17%      -           -           -7.51%      -8.21%      -           -0.87%      -0.88%      -1.64%      -0.98%\n",
      "Avg. Drawdown Days   -           1.00        2.00        -           -           2.00        2.00        -           2.00        2.00        2.00        2.00\n",
      "Avg. Up Month        -           -           -           -           -           -           -           -           -           -           -           -\n",
      "Avg. Down Month      -           -           -           -           -           -           -           -           -           -           -           -\n",
      "Win Year %           -           -           -           -           -           -           -           -           -           -           -           -\n",
      "Win 12m %            -           -           -           -           -           -           -           -           -           -           -           -\n"
     ]
    }
   ],
   "source": [
    "sharpe_ratios.display()"
   ]
  },
  {
   "cell_type": "markdown",
   "id": "5914d548-f459-4b15-b746-f420f3233782",
   "metadata": {},
   "source": [
    "## Rolling Volatility"
   ]
  },
  {
   "cell_type": "code",
   "execution_count": 24,
   "id": "8e796000-bde4-47cf-b4ff-d044e2e3c42c",
   "metadata": {},
   "outputs": [],
   "source": [
    "rolling_vol = prices.rolling(3).std()"
   ]
  },
  {
   "cell_type": "code",
   "execution_count": 25,
   "id": "84a32793-7b4b-4453-a386-6bcd99df591e",
   "metadata": {},
   "outputs": [
    {
     "name": "stdout",
     "output_type": "stream",
     "text": [
      "                aapl      msft      nvda     googl      tsla       mstr  \\\n",
      "Date                                                                      \n",
      "2024-12-06       NaN       NaN       NaN       NaN       NaN        NaN   \n",
      "2024-12-09       NaN       NaN       NaN       NaN       NaN        NaN   \n",
      "2024-12-10  2.602355  1.488631  3.685134  5.921922  6.636981  14.926300   \n",
      "2024-12-11  1.453839  1.454731  1.931006  8.177729  8.257448  15.857508   \n",
      "\n",
      "                pltr       iau      splg      amzn      meta      schg  \n",
      "Date                                                                    \n",
      "2024-12-06       NaN       NaN       NaN       NaN       NaN       NaN  \n",
      "2024-12-09       NaN       NaN       NaN       NaN       NaN       NaN  \n",
      "2024-12-10  2.805404  0.577091  0.313420  0.995509  5.113794  0.144221  \n",
      "2024-12-11  1.212694  0.438446  0.214639  2.047887  9.166113  0.119478  \n"
     ]
    }
   ],
   "source": [
    "print(rolling_vol.tail())"
   ]
  },
  {
   "cell_type": "markdown",
   "id": "f25567fe-e9c7-4eb1-bf97-db90b7194046",
   "metadata": {},
   "source": [
    "## Portfolio Optimization"
   ]
  },
  {
   "cell_type": "markdown",
   "id": "9f5019ea-c2db-428f-b89c-11e45a4e3a49",
   "metadata": {},
   "source": [
    "This method of portfolio optimization leverages historical data to create an allocation that minimizes risk while targeting a desired return."
   ]
  },
  {
   "cell_type": "code",
   "execution_count": 26,
   "id": "9f47cadc-0e85-42b0-a72c-6a9063e4c1b8",
   "metadata": {},
   "outputs": [],
   "source": [
    "portfolio = prices.calc_stats().prices"
   ]
  },
  {
   "cell_type": "code",
   "execution_count": 27,
   "id": "f2de3de0-ab74-4560-837f-3c6f4019fecb",
   "metadata": {},
   "outputs": [
    {
     "data": {
      "text/html": [
       "<div>\n",
       "<style scoped>\n",
       "    .dataframe tbody tr th:only-of-type {\n",
       "        vertical-align: middle;\n",
       "    }\n",
       "\n",
       "    .dataframe tbody tr th {\n",
       "        vertical-align: top;\n",
       "    }\n",
       "\n",
       "    .dataframe thead th {\n",
       "        text-align: right;\n",
       "    }\n",
       "</style>\n",
       "<table border=\"1\" class=\"dataframe\">\n",
       "  <thead>\n",
       "    <tr style=\"text-align: right;\">\n",
       "      <th></th>\n",
       "      <th>aapl</th>\n",
       "      <th>msft</th>\n",
       "      <th>nvda</th>\n",
       "      <th>googl</th>\n",
       "      <th>tsla</th>\n",
       "      <th>mstr</th>\n",
       "      <th>pltr</th>\n",
       "      <th>iau</th>\n",
       "      <th>splg</th>\n",
       "      <th>amzn</th>\n",
       "      <th>meta</th>\n",
       "      <th>schg</th>\n",
       "    </tr>\n",
       "    <tr>\n",
       "      <th>Date</th>\n",
       "      <th></th>\n",
       "      <th></th>\n",
       "      <th></th>\n",
       "      <th></th>\n",
       "      <th></th>\n",
       "      <th></th>\n",
       "      <th></th>\n",
       "      <th></th>\n",
       "      <th></th>\n",
       "      <th></th>\n",
       "      <th></th>\n",
       "      <th></th>\n",
       "    </tr>\n",
       "  </thead>\n",
       "  <tbody>\n",
       "    <tr>\n",
       "      <th>2024-12-06</th>\n",
       "      <td>242.839996</td>\n",
       "      <td>443.570007</td>\n",
       "      <td>142.440002</td>\n",
       "      <td>174.510010</td>\n",
       "      <td>389.220001</td>\n",
       "      <td>395.010010</td>\n",
       "      <td>76.339996</td>\n",
       "      <td>49.680000</td>\n",
       "      <td>71.519997</td>\n",
       "      <td>227.029999</td>\n",
       "      <td>623.770020</td>\n",
       "      <td>28.709999</td>\n",
       "    </tr>\n",
       "    <tr>\n",
       "      <th>2024-12-09</th>\n",
       "      <td>246.750000</td>\n",
       "      <td>446.019989</td>\n",
       "      <td>138.809998</td>\n",
       "      <td>175.369995</td>\n",
       "      <td>389.790009</td>\n",
       "      <td>365.339996</td>\n",
       "      <td>72.459999</td>\n",
       "      <td>50.169998</td>\n",
       "      <td>71.129997</td>\n",
       "      <td>226.089996</td>\n",
       "      <td>613.570007</td>\n",
       "      <td>28.510000</td>\n",
       "    </tr>\n",
       "    <tr>\n",
       "      <th>2024-12-10</th>\n",
       "      <td>247.770004</td>\n",
       "      <td>443.329987</td>\n",
       "      <td>135.070007</td>\n",
       "      <td>185.169998</td>\n",
       "      <td>400.989990</td>\n",
       "      <td>377.320007</td>\n",
       "      <td>70.889999</td>\n",
       "      <td>50.830002</td>\n",
       "      <td>70.900002</td>\n",
       "      <td>225.039993</td>\n",
       "      <td>619.320007</td>\n",
       "      <td>28.430000</td>\n",
       "    </tr>\n",
       "    <tr>\n",
       "      <th>2024-12-11</th>\n",
       "      <td>249.618103</td>\n",
       "      <td>445.635010</td>\n",
       "      <td>137.774094</td>\n",
       "      <td>191.610001</td>\n",
       "      <td>405.900787</td>\n",
       "      <td>396.761108</td>\n",
       "      <td>70.073997</td>\n",
       "      <td>51.000000</td>\n",
       "      <td>71.328903</td>\n",
       "      <td>228.993500</td>\n",
       "      <td>631.520020</td>\n",
       "      <td>28.665001</td>\n",
       "    </tr>\n",
       "  </tbody>\n",
       "</table>\n",
       "</div>"
      ],
      "text/plain": [
       "                  aapl        msft        nvda       googl        tsla  \\\n",
       "Date                                                                     \n",
       "2024-12-06  242.839996  443.570007  142.440002  174.510010  389.220001   \n",
       "2024-12-09  246.750000  446.019989  138.809998  175.369995  389.790009   \n",
       "2024-12-10  247.770004  443.329987  135.070007  185.169998  400.989990   \n",
       "2024-12-11  249.618103  445.635010  137.774094  191.610001  405.900787   \n",
       "\n",
       "                  mstr       pltr        iau       splg        amzn  \\\n",
       "Date                                                                  \n",
       "2024-12-06  395.010010  76.339996  49.680000  71.519997  227.029999   \n",
       "2024-12-09  365.339996  72.459999  50.169998  71.129997  226.089996   \n",
       "2024-12-10  377.320007  70.889999  50.830002  70.900002  225.039993   \n",
       "2024-12-11  396.761108  70.073997  51.000000  71.328903  228.993500   \n",
       "\n",
       "                  meta       schg  \n",
       "Date                               \n",
       "2024-12-06  623.770020  28.709999  \n",
       "2024-12-09  613.570007  28.510000  \n",
       "2024-12-10  619.320007  28.430000  \n",
       "2024-12-11  631.520020  28.665001  "
      ]
     },
     "execution_count": 27,
     "metadata": {},
     "output_type": "execute_result"
    }
   ],
   "source": [
    "portfolio"
   ]
  },
  {
   "cell_type": "code",
   "execution_count": 28,
   "id": "fe8d4206-1305-4491-a4a9-d79b3f82dac6",
   "metadata": {},
   "outputs": [],
   "source": [
    "weights = portfolio.calc_mean_var_weights().as_format('.2%')"
   ]
  },
  {
   "cell_type": "code",
   "execution_count": 29,
   "id": "6c611140-c856-4c63-8a46-9b311f8778c4",
   "metadata": {},
   "outputs": [
    {
     "name": "stdout",
     "output_type": "stream",
     "text": [
      "aapl     13.22%\n",
      "msft     34.39%\n",
      "nvda      9.11%\n",
      "googl     0.00%\n",
      "tsla      3.53%\n",
      "mstr      0.00%\n",
      "pltr     12.12%\n",
      "iau       2.86%\n",
      "splg      5.24%\n",
      "amzn      8.47%\n",
      "meta      9.17%\n",
      "schg      1.89%\n",
      "dtype: object\n"
     ]
    }
   ],
   "source": [
    "print(weights)"
   ]
  },
  {
   "cell_type": "markdown",
   "id": "470c18d4-6f56-4e38-9df3-70426070bb4d",
   "metadata": {},
   "source": [
    "## Max Drawdown Analysis"
   ]
  },
  {
   "cell_type": "markdown",
   "id": "c39b8486-b3cc-485f-be0c-71ed4e657af3",
   "metadata": {},
   "source": [
    "The maximum drawdown is an important metric to evaluate the worst peak-to-trough decline during a specific period. It provides insight into how much value an investor could lose most during a downturn:"
   ]
  },
  {
   "cell_type": "code",
   "execution_count": 30,
   "id": "de1fdc89-3890-4f2b-ba2c-f8f69bf7d4e5",
   "metadata": {},
   "outputs": [],
   "source": [
    "max_drawdown = prices.calc_max_drawdown().as_format('.2%')"
   ]
  },
  {
   "cell_type": "code",
   "execution_count": 31,
   "id": "9c0286bd-3e4c-4f1c-8314-7a2db044e654",
   "metadata": {},
   "outputs": [
    {
     "name": "stdout",
     "output_type": "stream",
     "text": [
      "aapl      0.00%\n",
      "msft     -0.60%\n",
      "nvda     -5.17%\n",
      "googl     0.00%\n",
      "tsla      0.00%\n",
      "mstr     -7.51%\n",
      "pltr     -8.21%\n",
      "iau       0.00%\n",
      "splg     -0.87%\n",
      "amzn     -0.88%\n",
      "meta     -1.64%\n",
      "schg     -0.98%\n",
      "dtype: object\n"
     ]
    }
   ],
   "source": [
    "print(max_drawdown)"
   ]
  },
  {
   "cell_type": "markdown",
   "id": "9e51ff5e-e732-41d7-aee0-8ac47f595c64",
   "metadata": {},
   "source": [
    "Consultas: https://chatgpt.com/c/675989fe-f91c-800b-a51c-36da7260404f"
   ]
  },
  {
   "cell_type": "code",
   "execution_count": null,
   "id": "c9c96248-bcdc-4572-9c2e-7421d30798cd",
   "metadata": {},
   "outputs": [],
   "source": []
  }
 ],
 "metadata": {
  "kernelspec": {
   "display_name": "Python 3 (ipykernel)",
   "language": "python",
   "name": "python3"
  },
  "language_info": {
   "codemirror_mode": {
    "name": "ipython",
    "version": 3
   },
   "file_extension": ".py",
   "mimetype": "text/x-python",
   "name": "python",
   "nbconvert_exporter": "python",
   "pygments_lexer": "ipython3",
   "version": "3.12.7"
  }
 },
 "nbformat": 4,
 "nbformat_minor": 5
}
