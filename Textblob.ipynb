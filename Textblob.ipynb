{
 "cells": [
  {
   "cell_type": "markdown",
   "id": "e39e5178-40f7-4dbb-9558-9326bbc903e4",
   "metadata": {},
   "source": [
    "# Sentiment Analysis 2 with textblob"
   ]
  },
  {
   "cell_type": "code",
   "execution_count": 1,
   "id": "a064741c-84f0-4adc-9091-4cf1e493d421",
   "metadata": {},
   "outputs": [],
   "source": [
    "import os\n",
    "from GoogleNews import GoogleNews\n",
    "from textblob import TextBlob\n",
    "import pandas as pd\n",
    "from datetime import datetime\n",
    "import matplotlib.pyplot as plt\n",
    "import time\n",
    "import plotly.express as px\n",
    "import plotly.graph_objects as go\n",
    "from plotly.subplots import make_subplots\n",
    "from openbb import obb"
   ]
  },
  {
   "cell_type": "code",
   "execution_count": 2,
   "id": "1063ba85-534f-46b0-9fd2-a2a5e34d59de",
   "metadata": {},
   "outputs": [],
   "source": [
    "def save_data(data):\n",
    "    output_dir = \"data\"\n",
    "    # os.makedirs(output_dir, exist_ok=True)\n",
    "\n",
    "    # Get the date and actual hour\n",
    "    timestamp = datetime.now().strftime(\"%Y%m%d_%H%M%S\")\n",
    "    \n",
    "    file_path = os.path.join(output_dir, f\"data_{timestamp}.csv\")\n",
    "    \n",
    "    # Save the DATA\n",
    "    data.to_csv(file_path, index=True)\n",
    "    print(f\"Data saved in: {file_path}\")"
   ]
  },
  {
   "cell_type": "code",
   "execution_count": 3,
   "id": "a1bd75d0-e081-4ea7-91e0-f5d08a087bd0",
   "metadata": {},
   "outputs": [],
   "source": [
    "def fetch_feed(actif):\n",
    "    #date in format \"mm/dd/yyyy\"\n",
    "    time.sleep(30)\n",
    "    googlenews=GoogleNews()\n",
    "    googlenews.set_lang('en')\n",
    "    googlenews.set_period('7d')\n",
    "    #googlenews.set_time_range(start_date, end_date)\n",
    "    googlenews.set_encode('utf-8')\n",
    "    googlenews.search(actif)\n",
    "\n",
    "    # process\n",
    "    news_items = []\n",
    "    pages = 1\n",
    "    summary = []\n",
    "    positive_count = 0\n",
    "    negative_count = 0\n",
    "    neutral_count = 0\n",
    "    subjectivity_count = 0\n",
    "    objectivity_count = 0\n",
    "    \n",
    "    for page in range(1, pages + 1):\n",
    "        time.sleep(30)\n",
    "        print(f\"Raul Aviles the Goat Get news of {page} page :) ...\")\n",
    "        #googlenews.get_page(page)\n",
    "        news=googlenews.results()\n",
    "        \n",
    "        for entry in news:\n",
    "            title = entry['title']\n",
    "            desc = entry['desc']\n",
    "            information = f\"{title}. {desc}\"\n",
    "            text=TextBlob(information)\n",
    "            \n",
    "            # obtain polarity\n",
    "            sentiment = text.sentiment.polarity\n",
    "            subjectivity = text.sentiment.subjectivity\n",
    "\n",
    "            # Sentiment threshold\n",
    "            if sentiment > 0.05:\n",
    "                positive_count += 1\n",
    "            elif sentiment <= -0.02:\n",
    "                negative_count += 1\n",
    "            else:\n",
    "                neutral_count += 1\n",
    "\n",
    "            # Subjectivity threshold\n",
    "            if subjectivity >= 0.5:\n",
    "                subjectivity_count += 1\n",
    "            else:\n",
    "                objectivity_count += 1\n",
    "        \n",
    "            news_items.append([entry['datetime'], information, sentiment, subjectivity])\n",
    "\n",
    "    df = pd.DataFrame(news_items, columns=['Fecha', 'Noticia', 'Sentiment_Polarity', 'Sentiment_Subjectivity'])\n",
    "    df = df.set_index('Fecha')    \n",
    "    summary.append({\n",
    "        'Positive_Ratio': positive_count/len(news_items), \n",
    "        'Negative_Ratio': negative_count/len(news_items), \n",
    "        'Neutral_Ratio': neutral_count/len(news_items),\n",
    "        'Positive Count': positive_count,\n",
    "        'Negative Count': negative_count,\n",
    "        'Neutral Count': neutral_count,\n",
    "        'Subjectivity_Ratio': subjectivity_count / (subjectivity_count + objectivity_count),\n",
    "        'Objectivity_Ratio': objectivity_count / (subjectivity_count + objectivity_count)\n",
    "    })\n",
    "    \n",
    "    save_data(df)\n",
    "    \n",
    "    return summary\n",
    "    "
   ]
  },
  {
   "cell_type": "code",
   "execution_count": 4,
   "id": "995cf730-ca47-499f-88cd-470192603e8a",
   "metadata": {},
   "outputs": [
    {
     "name": "stdout",
     "output_type": "stream",
     "text": [
      "Raul Aviles the Goat Get news of 1 page :) ...\n",
      "Data saved in: data\\data_20241211_100555.csv\n"
     ]
    }
   ],
   "source": [
    "x = fetch_feed(\"GOOGL\")"
   ]
  },
  {
   "cell_type": "code",
   "execution_count": 5,
   "id": "b7f15e47-d8c9-4548-9a7a-81b2c3cb0827",
   "metadata": {},
   "outputs": [
    {
     "data": {
      "text/plain": [
       "[{'Positive_Ratio': 0.45454545454545453,\n",
       "  'Negative_Ratio': 0.09090909090909091,\n",
       "  'Neutral_Ratio': 0.45454545454545453,\n",
       "  'Positive Count': 5,\n",
       "  'Negative Count': 1,\n",
       "  'Neutral Count': 5,\n",
       "  'Subjectivity_Ratio': 0.36363636363636365,\n",
       "  'Objectivity_Ratio': 0.6363636363636364}]"
      ]
     },
     "execution_count": 5,
     "metadata": {},
     "output_type": "execute_result"
    }
   ],
   "source": [
    "x"
   ]
  },
  {
   "cell_type": "markdown",
   "id": "4a618a41-d443-438c-b3a6-5ea43dea196d",
   "metadata": {},
   "source": [
    "Subjetividad -> Menor a 0.5: Predominantemente objetivo (más basado en hechos).\n",
    "Mayor o igual a 0.5: Predominantemente subjetivo (más basado en opiniones)."
   ]
  },
  {
   "cell_type": "code",
   "execution_count": null,
   "id": "d50c98f0-8e5f-4ad8-a3b8-2f57a8f01f8d",
   "metadata": {},
   "outputs": [],
   "source": []
  }
 ],
 "metadata": {
  "kernelspec": {
   "display_name": "Python 3 (ipykernel)",
   "language": "python",
   "name": "python3"
  },
  "language_info": {
   "codemirror_mode": {
    "name": "ipython",
    "version": 3
   },
   "file_extension": ".py",
   "mimetype": "text/x-python",
   "name": "python",
   "nbconvert_exporter": "python",
   "pygments_lexer": "ipython3",
   "version": "3.12.7"
  }
 },
 "nbformat": 4,
 "nbformat_minor": 5
}
