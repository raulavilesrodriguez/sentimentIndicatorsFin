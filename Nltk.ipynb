{
 "cells": [
  {
   "cell_type": "markdown",
   "id": "41af29c7-4b2e-4f2d-8c4f-55befcdacf2a",
   "metadata": {},
   "source": [
    "# Fundamental Analisis"
   ]
  },
  {
   "cell_type": "code",
   "execution_count": 13,
   "id": "01384fd0-902c-4cf9-8be2-9ceb3513686b",
   "metadata": {},
   "outputs": [],
   "source": [
    "import os\n",
    "import nltk\n",
    "from nltk.sentiment import SentimentIntensityAnalyzer\n",
    "from GoogleNews import GoogleNews\n",
    "from prettytable import PrettyTable\n",
    "import pandas as pd\n",
    "from datetime import datetime\n",
    "import matplotlib.pyplot as plt\n",
    "import time\n",
    "import plotly.express as px\n",
    "import plotly.graph_objects as go\n",
    "from plotly.subplots import make_subplots\n",
    "from openbb import obb"
   ]
  },
  {
   "cell_type": "code",
   "execution_count": 14,
   "id": "8892574d-1ea6-4724-84fc-cea36e5cbc1f",
   "metadata": {},
   "outputs": [
    {
     "name": "stderr",
     "output_type": "stream",
     "text": [
      "[nltk_data] Downloading package vader_lexicon to\n",
      "[nltk_data]     C:\\Users\\bravi\\AppData\\Roaming\\nltk_data...\n",
      "[nltk_data]   Package vader_lexicon is already up-to-date!\n"
     ]
    },
    {
     "data": {
      "text/plain": [
       "True"
      ]
     },
     "execution_count": 14,
     "metadata": {},
     "output_type": "execute_result"
    }
   ],
   "source": [
    "# Download the VADER lexicon for sentiment analysis\n",
    "nltk.download('vader_lexicon')"
   ]
  },
  {
   "cell_type": "code",
   "execution_count": 15,
   "id": "3750b6c2-ef25-43be-9296-c9f1faa553bd",
   "metadata": {},
   "outputs": [],
   "source": [
    "def save_data(data):\n",
    "    output_dir = \"data\"\n",
    "    # os.makedirs(output_dir, exist_ok=True)\n",
    "\n",
    "    # Get the date and actual hour\n",
    "    timestamp = datetime.now().strftime(\"%Y%m%d_%H%M%S\")\n",
    "    \n",
    "    file_path = os.path.join(output_dir, f\"data_{timestamp}.csv\")\n",
    "    \n",
    "    # Save the DATA\n",
    "    data.to_csv(file_path, index=True)\n",
    "    print(f\"Data saved in: {file_path}\")"
   ]
  },
  {
   "cell_type": "code",
   "execution_count": 16,
   "id": "92694dd7-84cb-4550-beb5-50c4f98f147e",
   "metadata": {},
   "outputs": [],
   "source": [
    "def fetch_feed(actif):\n",
    "    #date in format \"mm/dd/yyyy\"\n",
    "    time.sleep(30)\n",
    "    googlenews=GoogleNews()\n",
    "    googlenews.set_lang('en')\n",
    "    googlenews.set_period('7d')\n",
    "    #googlenews.set_time_range(start_date, end_date)\n",
    "    googlenews.set_encode('utf-8')\n",
    "    googlenews.search(actif)\n",
    "\n",
    "    # process\n",
    "    news_items = []\n",
    "    pages = 1\n",
    "    summary = []\n",
    "    positive_count = 0\n",
    "    negative_count = 0\n",
    "    neutral_count = 0\n",
    "    \n",
    "    for page in range(1, pages + 1):\n",
    "        time.sleep(30)\n",
    "        print(f\"Raul Aviles the Goat Get news of {page} page :) ...\")\n",
    "        #googlenews.get_page(page)\n",
    "        news=googlenews.results()\n",
    "\n",
    "        # Initialize the sentiment analyzer\n",
    "        sid = SentimentIntensityAnalyzer()\n",
    "        \n",
    "        for entry in news:\n",
    "            title = entry['title']\n",
    "            desc = entry['desc']\n",
    "            information = f\"{title}. {desc}\"\n",
    "            sentiment=sid.polarity_scores(information)['compound']\n",
    "            \n",
    "            # Sentiment threshold\n",
    "            if sentiment > 0.05:\n",
    "                positive_count += 1\n",
    "            elif sentiment <= 0:\n",
    "                negative_count += 1\n",
    "            else:\n",
    "                neutral_count += 1\n",
    "        \n",
    "            news_items.append([entry['datetime'], information, sentiment])\n",
    "\n",
    "    df = pd.DataFrame(news_items, columns=['Fecha', 'Noticia', 'Sentiment_Polarity'])\n",
    "    df = df.set_index('Fecha')    \n",
    "    summary.append({\n",
    "        'Positive_Ratio': positive_count/len(news_items), \n",
    "        'Negative_Ratio': negative_count/len(news_items), \n",
    "        'Neutral_Ratio': neutral_count/len(news_items),\n",
    "        'Positive Count': positive_count,\n",
    "        'Negative Count': negative_count,\n",
    "        'Neutral Count': neutral_count,\n",
    "    })\n",
    "    \n",
    "    save_data(df)\n",
    "    \n",
    "    return summary\n",
    "    "
   ]
  },
  {
   "cell_type": "code",
   "execution_count": 17,
   "id": "0d32c474-194d-4828-9849-6323c34da5a9",
   "metadata": {},
   "outputs": [
    {
     "name": "stdout",
     "output_type": "stream",
     "text": [
      "Raul Aviles the Goat Get news of 1 page :) ...\n",
      "Data saved in: data\\data_20241203_191110.csv\n"
     ]
    }
   ],
   "source": [
    "ne = fetch_feed(\"Nvidia\")"
   ]
  },
  {
   "cell_type": "code",
   "execution_count": 18,
   "id": "6751bb06-cedb-4d55-84a4-3c9de5a32d1e",
   "metadata": {},
   "outputs": [
    {
     "data": {
      "text/plain": [
       "[{'Positive_Ratio': 0.6,\n",
       "  'Negative_Ratio': 0.3,\n",
       "  'Neutral_Ratio': 0.1,\n",
       "  'Positive Count': 6,\n",
       "  'Negative Count': 3,\n",
       "  'Neutral Count': 1}]"
      ]
     },
     "execution_count": 18,
     "metadata": {},
     "output_type": "execute_result"
    }
   ],
   "source": [
    "ne"
   ]
  },
  {
   "cell_type": "code",
   "execution_count": null,
   "id": "9d6679de-b77d-48e6-9b50-01317fa0549b",
   "metadata": {},
   "outputs": [],
   "source": []
  }
 ],
 "metadata": {
  "kernelspec": {
   "display_name": "Python 3 (ipykernel)",
   "language": "python",
   "name": "python3"
  },
  "language_info": {
   "codemirror_mode": {
    "name": "ipython",
    "version": 3
   },
   "file_extension": ".py",
   "mimetype": "text/x-python",
   "name": "python",
   "nbconvert_exporter": "python",
   "pygments_lexer": "ipython3",
   "version": "3.12.7"
  }
 },
 "nbformat": 4,
 "nbformat_minor": 5
}
